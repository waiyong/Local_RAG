{
 "cells": [
  {
   "cell_type": "code",
   "execution_count": 1,
   "metadata": {},
   "outputs": [
    {
     "ename": "ConnectionError",
     "evalue": "('Connection aborted.', ConnectionResetError(54, 'Connection reset by peer'))",
     "output_type": "error",
     "traceback": [
      "\u001b[0;31m---------------------------------------------------------------------------\u001b[0m",
      "\u001b[0;31mConnectionResetError\u001b[0m                      Traceback (most recent call last)",
      "File \u001b[0;32m/opt/miniconda3/envs/local_RAG/lib/python3.10/site-packages/urllib3/connectionpool.py:787\u001b[0m, in \u001b[0;36mHTTPConnectionPool.urlopen\u001b[0;34m(self, method, url, body, headers, retries, redirect, assert_same_host, timeout, pool_timeout, release_conn, chunked, body_pos, preload_content, decode_content, **response_kw)\u001b[0m\n\u001b[1;32m    786\u001b[0m \u001b[38;5;66;03m# Make the request on the HTTPConnection object\u001b[39;00m\n\u001b[0;32m--> 787\u001b[0m response \u001b[38;5;241m=\u001b[39m \u001b[38;5;28;43mself\u001b[39;49m\u001b[38;5;241;43m.\u001b[39;49m\u001b[43m_make_request\u001b[49m\u001b[43m(\u001b[49m\n\u001b[1;32m    788\u001b[0m \u001b[43m    \u001b[49m\u001b[43mconn\u001b[49m\u001b[43m,\u001b[49m\n\u001b[1;32m    789\u001b[0m \u001b[43m    \u001b[49m\u001b[43mmethod\u001b[49m\u001b[43m,\u001b[49m\n\u001b[1;32m    790\u001b[0m \u001b[43m    \u001b[49m\u001b[43murl\u001b[49m\u001b[43m,\u001b[49m\n\u001b[1;32m    791\u001b[0m \u001b[43m    \u001b[49m\u001b[43mtimeout\u001b[49m\u001b[38;5;241;43m=\u001b[39;49m\u001b[43mtimeout_obj\u001b[49m\u001b[43m,\u001b[49m\n\u001b[1;32m    792\u001b[0m \u001b[43m    \u001b[49m\u001b[43mbody\u001b[49m\u001b[38;5;241;43m=\u001b[39;49m\u001b[43mbody\u001b[49m\u001b[43m,\u001b[49m\n\u001b[1;32m    793\u001b[0m \u001b[43m    \u001b[49m\u001b[43mheaders\u001b[49m\u001b[38;5;241;43m=\u001b[39;49m\u001b[43mheaders\u001b[49m\u001b[43m,\u001b[49m\n\u001b[1;32m    794\u001b[0m \u001b[43m    \u001b[49m\u001b[43mchunked\u001b[49m\u001b[38;5;241;43m=\u001b[39;49m\u001b[43mchunked\u001b[49m\u001b[43m,\u001b[49m\n\u001b[1;32m    795\u001b[0m \u001b[43m    \u001b[49m\u001b[43mretries\u001b[49m\u001b[38;5;241;43m=\u001b[39;49m\u001b[43mretries\u001b[49m\u001b[43m,\u001b[49m\n\u001b[1;32m    796\u001b[0m \u001b[43m    \u001b[49m\u001b[43mresponse_conn\u001b[49m\u001b[38;5;241;43m=\u001b[39;49m\u001b[43mresponse_conn\u001b[49m\u001b[43m,\u001b[49m\n\u001b[1;32m    797\u001b[0m \u001b[43m    \u001b[49m\u001b[43mpreload_content\u001b[49m\u001b[38;5;241;43m=\u001b[39;49m\u001b[43mpreload_content\u001b[49m\u001b[43m,\u001b[49m\n\u001b[1;32m    798\u001b[0m \u001b[43m    \u001b[49m\u001b[43mdecode_content\u001b[49m\u001b[38;5;241;43m=\u001b[39;49m\u001b[43mdecode_content\u001b[49m\u001b[43m,\u001b[49m\n\u001b[1;32m    799\u001b[0m \u001b[43m    \u001b[49m\u001b[38;5;241;43m*\u001b[39;49m\u001b[38;5;241;43m*\u001b[39;49m\u001b[43mresponse_kw\u001b[49m\u001b[43m,\u001b[49m\n\u001b[1;32m    800\u001b[0m \u001b[43m\u001b[49m\u001b[43m)\u001b[49m\n\u001b[1;32m    802\u001b[0m \u001b[38;5;66;03m# Everything went great!\u001b[39;00m\n",
      "File \u001b[0;32m/opt/miniconda3/envs/local_RAG/lib/python3.10/site-packages/urllib3/connectionpool.py:488\u001b[0m, in \u001b[0;36mHTTPConnectionPool._make_request\u001b[0;34m(self, conn, method, url, body, headers, retries, timeout, chunked, response_conn, preload_content, decode_content, enforce_content_length)\u001b[0m\n\u001b[1;32m    487\u001b[0m         new_e \u001b[38;5;241m=\u001b[39m _wrap_proxy_error(new_e, conn\u001b[38;5;241m.\u001b[39mproxy\u001b[38;5;241m.\u001b[39mscheme)\n\u001b[0;32m--> 488\u001b[0m     \u001b[38;5;28;01mraise\u001b[39;00m new_e\n\u001b[1;32m    490\u001b[0m \u001b[38;5;66;03m# conn.request() calls http.client.*.request, not the method in\u001b[39;00m\n\u001b[1;32m    491\u001b[0m \u001b[38;5;66;03m# urllib3.request. It also calls makefile (recv) on the socket.\u001b[39;00m\n",
      "File \u001b[0;32m/opt/miniconda3/envs/local_RAG/lib/python3.10/site-packages/urllib3/connectionpool.py:464\u001b[0m, in \u001b[0;36mHTTPConnectionPool._make_request\u001b[0;34m(self, conn, method, url, body, headers, retries, timeout, chunked, response_conn, preload_content, decode_content, enforce_content_length)\u001b[0m\n\u001b[1;32m    463\u001b[0m \u001b[38;5;28;01mtry\u001b[39;00m:\n\u001b[0;32m--> 464\u001b[0m     \u001b[38;5;28;43mself\u001b[39;49m\u001b[38;5;241;43m.\u001b[39;49m\u001b[43m_validate_conn\u001b[49m\u001b[43m(\u001b[49m\u001b[43mconn\u001b[49m\u001b[43m)\u001b[49m\n\u001b[1;32m    465\u001b[0m \u001b[38;5;28;01mexcept\u001b[39;00m (SocketTimeout, BaseSSLError) \u001b[38;5;28;01mas\u001b[39;00m e:\n",
      "File \u001b[0;32m/opt/miniconda3/envs/local_RAG/lib/python3.10/site-packages/urllib3/connectionpool.py:1093\u001b[0m, in \u001b[0;36mHTTPSConnectionPool._validate_conn\u001b[0;34m(self, conn)\u001b[0m\n\u001b[1;32m   1092\u001b[0m \u001b[38;5;28;01mif\u001b[39;00m conn\u001b[38;5;241m.\u001b[39mis_closed:\n\u001b[0;32m-> 1093\u001b[0m     \u001b[43mconn\u001b[49m\u001b[38;5;241;43m.\u001b[39;49m\u001b[43mconnect\u001b[49m\u001b[43m(\u001b[49m\u001b[43m)\u001b[49m\n\u001b[1;32m   1095\u001b[0m \u001b[38;5;66;03m# TODO revise this, see https://github.com/urllib3/urllib3/issues/2791\u001b[39;00m\n",
      "File \u001b[0;32m/opt/miniconda3/envs/local_RAG/lib/python3.10/site-packages/urllib3/connection.py:741\u001b[0m, in \u001b[0;36mHTTPSConnection.connect\u001b[0;34m(self)\u001b[0m\n\u001b[1;32m    739\u001b[0m server_hostname_rm_dot \u001b[38;5;241m=\u001b[39m server_hostname\u001b[38;5;241m.\u001b[39mrstrip(\u001b[38;5;124m\"\u001b[39m\u001b[38;5;124m.\u001b[39m\u001b[38;5;124m\"\u001b[39m)\n\u001b[0;32m--> 741\u001b[0m sock_and_verified \u001b[38;5;241m=\u001b[39m \u001b[43m_ssl_wrap_socket_and_match_hostname\u001b[49m\u001b[43m(\u001b[49m\n\u001b[1;32m    742\u001b[0m \u001b[43m    \u001b[49m\u001b[43msock\u001b[49m\u001b[38;5;241;43m=\u001b[39;49m\u001b[43msock\u001b[49m\u001b[43m,\u001b[49m\n\u001b[1;32m    743\u001b[0m \u001b[43m    \u001b[49m\u001b[43mcert_reqs\u001b[49m\u001b[38;5;241;43m=\u001b[39;49m\u001b[38;5;28;43mself\u001b[39;49m\u001b[38;5;241;43m.\u001b[39;49m\u001b[43mcert_reqs\u001b[49m\u001b[43m,\u001b[49m\n\u001b[1;32m    744\u001b[0m \u001b[43m    \u001b[49m\u001b[43mssl_version\u001b[49m\u001b[38;5;241;43m=\u001b[39;49m\u001b[38;5;28;43mself\u001b[39;49m\u001b[38;5;241;43m.\u001b[39;49m\u001b[43mssl_version\u001b[49m\u001b[43m,\u001b[49m\n\u001b[1;32m    745\u001b[0m \u001b[43m    \u001b[49m\u001b[43mssl_minimum_version\u001b[49m\u001b[38;5;241;43m=\u001b[39;49m\u001b[38;5;28;43mself\u001b[39;49m\u001b[38;5;241;43m.\u001b[39;49m\u001b[43mssl_minimum_version\u001b[49m\u001b[43m,\u001b[49m\n\u001b[1;32m    746\u001b[0m \u001b[43m    \u001b[49m\u001b[43mssl_maximum_version\u001b[49m\u001b[38;5;241;43m=\u001b[39;49m\u001b[38;5;28;43mself\u001b[39;49m\u001b[38;5;241;43m.\u001b[39;49m\u001b[43mssl_maximum_version\u001b[49m\u001b[43m,\u001b[49m\n\u001b[1;32m    747\u001b[0m \u001b[43m    \u001b[49m\u001b[43mca_certs\u001b[49m\u001b[38;5;241;43m=\u001b[39;49m\u001b[38;5;28;43mself\u001b[39;49m\u001b[38;5;241;43m.\u001b[39;49m\u001b[43mca_certs\u001b[49m\u001b[43m,\u001b[49m\n\u001b[1;32m    748\u001b[0m \u001b[43m    \u001b[49m\u001b[43mca_cert_dir\u001b[49m\u001b[38;5;241;43m=\u001b[39;49m\u001b[38;5;28;43mself\u001b[39;49m\u001b[38;5;241;43m.\u001b[39;49m\u001b[43mca_cert_dir\u001b[49m\u001b[43m,\u001b[49m\n\u001b[1;32m    749\u001b[0m \u001b[43m    \u001b[49m\u001b[43mca_cert_data\u001b[49m\u001b[38;5;241;43m=\u001b[39;49m\u001b[38;5;28;43mself\u001b[39;49m\u001b[38;5;241;43m.\u001b[39;49m\u001b[43mca_cert_data\u001b[49m\u001b[43m,\u001b[49m\n\u001b[1;32m    750\u001b[0m \u001b[43m    \u001b[49m\u001b[43mcert_file\u001b[49m\u001b[38;5;241;43m=\u001b[39;49m\u001b[38;5;28;43mself\u001b[39;49m\u001b[38;5;241;43m.\u001b[39;49m\u001b[43mcert_file\u001b[49m\u001b[43m,\u001b[49m\n\u001b[1;32m    751\u001b[0m \u001b[43m    \u001b[49m\u001b[43mkey_file\u001b[49m\u001b[38;5;241;43m=\u001b[39;49m\u001b[38;5;28;43mself\u001b[39;49m\u001b[38;5;241;43m.\u001b[39;49m\u001b[43mkey_file\u001b[49m\u001b[43m,\u001b[49m\n\u001b[1;32m    752\u001b[0m \u001b[43m    \u001b[49m\u001b[43mkey_password\u001b[49m\u001b[38;5;241;43m=\u001b[39;49m\u001b[38;5;28;43mself\u001b[39;49m\u001b[38;5;241;43m.\u001b[39;49m\u001b[43mkey_password\u001b[49m\u001b[43m,\u001b[49m\n\u001b[1;32m    753\u001b[0m \u001b[43m    \u001b[49m\u001b[43mserver_hostname\u001b[49m\u001b[38;5;241;43m=\u001b[39;49m\u001b[43mserver_hostname_rm_dot\u001b[49m\u001b[43m,\u001b[49m\n\u001b[1;32m    754\u001b[0m \u001b[43m    \u001b[49m\u001b[43mssl_context\u001b[49m\u001b[38;5;241;43m=\u001b[39;49m\u001b[38;5;28;43mself\u001b[39;49m\u001b[38;5;241;43m.\u001b[39;49m\u001b[43mssl_context\u001b[49m\u001b[43m,\u001b[49m\n\u001b[1;32m    755\u001b[0m \u001b[43m    \u001b[49m\u001b[43mtls_in_tls\u001b[49m\u001b[38;5;241;43m=\u001b[39;49m\u001b[43mtls_in_tls\u001b[49m\u001b[43m,\u001b[49m\n\u001b[1;32m    756\u001b[0m \u001b[43m    \u001b[49m\u001b[43massert_hostname\u001b[49m\u001b[38;5;241;43m=\u001b[39;49m\u001b[38;5;28;43mself\u001b[39;49m\u001b[38;5;241;43m.\u001b[39;49m\u001b[43massert_hostname\u001b[49m\u001b[43m,\u001b[49m\n\u001b[1;32m    757\u001b[0m \u001b[43m    \u001b[49m\u001b[43massert_fingerprint\u001b[49m\u001b[38;5;241;43m=\u001b[39;49m\u001b[38;5;28;43mself\u001b[39;49m\u001b[38;5;241;43m.\u001b[39;49m\u001b[43massert_fingerprint\u001b[49m\u001b[43m,\u001b[49m\n\u001b[1;32m    758\u001b[0m \u001b[43m\u001b[49m\u001b[43m)\u001b[49m\n\u001b[1;32m    759\u001b[0m \u001b[38;5;28mself\u001b[39m\u001b[38;5;241m.\u001b[39msock \u001b[38;5;241m=\u001b[39m sock_and_verified\u001b[38;5;241m.\u001b[39msocket\n",
      "File \u001b[0;32m/opt/miniconda3/envs/local_RAG/lib/python3.10/site-packages/urllib3/connection.py:920\u001b[0m, in \u001b[0;36m_ssl_wrap_socket_and_match_hostname\u001b[0;34m(sock, cert_reqs, ssl_version, ssl_minimum_version, ssl_maximum_version, cert_file, key_file, key_password, ca_certs, ca_cert_dir, ca_cert_data, assert_hostname, assert_fingerprint, server_hostname, ssl_context, tls_in_tls)\u001b[0m\n\u001b[1;32m    918\u001b[0m         server_hostname \u001b[38;5;241m=\u001b[39m normalized\n\u001b[0;32m--> 920\u001b[0m ssl_sock \u001b[38;5;241m=\u001b[39m \u001b[43mssl_wrap_socket\u001b[49m\u001b[43m(\u001b[49m\n\u001b[1;32m    921\u001b[0m \u001b[43m    \u001b[49m\u001b[43msock\u001b[49m\u001b[38;5;241;43m=\u001b[39;49m\u001b[43msock\u001b[49m\u001b[43m,\u001b[49m\n\u001b[1;32m    922\u001b[0m \u001b[43m    \u001b[49m\u001b[43mkeyfile\u001b[49m\u001b[38;5;241;43m=\u001b[39;49m\u001b[43mkey_file\u001b[49m\u001b[43m,\u001b[49m\n\u001b[1;32m    923\u001b[0m \u001b[43m    \u001b[49m\u001b[43mcertfile\u001b[49m\u001b[38;5;241;43m=\u001b[39;49m\u001b[43mcert_file\u001b[49m\u001b[43m,\u001b[49m\n\u001b[1;32m    924\u001b[0m \u001b[43m    \u001b[49m\u001b[43mkey_password\u001b[49m\u001b[38;5;241;43m=\u001b[39;49m\u001b[43mkey_password\u001b[49m\u001b[43m,\u001b[49m\n\u001b[1;32m    925\u001b[0m \u001b[43m    \u001b[49m\u001b[43mca_certs\u001b[49m\u001b[38;5;241;43m=\u001b[39;49m\u001b[43mca_certs\u001b[49m\u001b[43m,\u001b[49m\n\u001b[1;32m    926\u001b[0m \u001b[43m    \u001b[49m\u001b[43mca_cert_dir\u001b[49m\u001b[38;5;241;43m=\u001b[39;49m\u001b[43mca_cert_dir\u001b[49m\u001b[43m,\u001b[49m\n\u001b[1;32m    927\u001b[0m \u001b[43m    \u001b[49m\u001b[43mca_cert_data\u001b[49m\u001b[38;5;241;43m=\u001b[39;49m\u001b[43mca_cert_data\u001b[49m\u001b[43m,\u001b[49m\n\u001b[1;32m    928\u001b[0m \u001b[43m    \u001b[49m\u001b[43mserver_hostname\u001b[49m\u001b[38;5;241;43m=\u001b[39;49m\u001b[43mserver_hostname\u001b[49m\u001b[43m,\u001b[49m\n\u001b[1;32m    929\u001b[0m \u001b[43m    \u001b[49m\u001b[43mssl_context\u001b[49m\u001b[38;5;241;43m=\u001b[39;49m\u001b[43mcontext\u001b[49m\u001b[43m,\u001b[49m\n\u001b[1;32m    930\u001b[0m \u001b[43m    \u001b[49m\u001b[43mtls_in_tls\u001b[49m\u001b[38;5;241;43m=\u001b[39;49m\u001b[43mtls_in_tls\u001b[49m\u001b[43m,\u001b[49m\n\u001b[1;32m    931\u001b[0m \u001b[43m\u001b[49m\u001b[43m)\u001b[49m\n\u001b[1;32m    933\u001b[0m \u001b[38;5;28;01mtry\u001b[39;00m:\n",
      "File \u001b[0;32m/opt/miniconda3/envs/local_RAG/lib/python3.10/site-packages/urllib3/util/ssl_.py:460\u001b[0m, in \u001b[0;36mssl_wrap_socket\u001b[0;34m(sock, keyfile, certfile, cert_reqs, ca_certs, server_hostname, ssl_version, ciphers, ssl_context, ca_cert_dir, key_password, ca_cert_data, tls_in_tls)\u001b[0m\n\u001b[1;32m    458\u001b[0m context\u001b[38;5;241m.\u001b[39mset_alpn_protocols(ALPN_PROTOCOLS)\n\u001b[0;32m--> 460\u001b[0m ssl_sock \u001b[38;5;241m=\u001b[39m \u001b[43m_ssl_wrap_socket_impl\u001b[49m\u001b[43m(\u001b[49m\u001b[43msock\u001b[49m\u001b[43m,\u001b[49m\u001b[43m \u001b[49m\u001b[43mcontext\u001b[49m\u001b[43m,\u001b[49m\u001b[43m \u001b[49m\u001b[43mtls_in_tls\u001b[49m\u001b[43m,\u001b[49m\u001b[43m \u001b[49m\u001b[43mserver_hostname\u001b[49m\u001b[43m)\u001b[49m\n\u001b[1;32m    461\u001b[0m \u001b[38;5;28;01mreturn\u001b[39;00m ssl_sock\n",
      "File \u001b[0;32m/opt/miniconda3/envs/local_RAG/lib/python3.10/site-packages/urllib3/util/ssl_.py:504\u001b[0m, in \u001b[0;36m_ssl_wrap_socket_impl\u001b[0;34m(sock, ssl_context, tls_in_tls, server_hostname)\u001b[0m\n\u001b[1;32m    502\u001b[0m     \u001b[38;5;28;01mreturn\u001b[39;00m SSLTransport(sock, ssl_context, server_hostname)\n\u001b[0;32m--> 504\u001b[0m \u001b[38;5;28;01mreturn\u001b[39;00m \u001b[43mssl_context\u001b[49m\u001b[38;5;241;43m.\u001b[39;49m\u001b[43mwrap_socket\u001b[49m\u001b[43m(\u001b[49m\u001b[43msock\u001b[49m\u001b[43m,\u001b[49m\u001b[43m \u001b[49m\u001b[43mserver_hostname\u001b[49m\u001b[38;5;241;43m=\u001b[39;49m\u001b[43mserver_hostname\u001b[49m\u001b[43m)\u001b[49m\n",
      "File \u001b[0;32m/opt/miniconda3/envs/local_RAG/lib/python3.10/ssl.py:513\u001b[0m, in \u001b[0;36mSSLContext.wrap_socket\u001b[0;34m(self, sock, server_side, do_handshake_on_connect, suppress_ragged_eofs, server_hostname, session)\u001b[0m\n\u001b[1;32m    507\u001b[0m \u001b[38;5;28;01mdef\u001b[39;00m\u001b[38;5;250m \u001b[39m\u001b[38;5;21mwrap_socket\u001b[39m(\u001b[38;5;28mself\u001b[39m, sock, server_side\u001b[38;5;241m=\u001b[39m\u001b[38;5;28;01mFalse\u001b[39;00m,\n\u001b[1;32m    508\u001b[0m                 do_handshake_on_connect\u001b[38;5;241m=\u001b[39m\u001b[38;5;28;01mTrue\u001b[39;00m,\n\u001b[1;32m    509\u001b[0m                 suppress_ragged_eofs\u001b[38;5;241m=\u001b[39m\u001b[38;5;28;01mTrue\u001b[39;00m,\n\u001b[1;32m    510\u001b[0m                 server_hostname\u001b[38;5;241m=\u001b[39m\u001b[38;5;28;01mNone\u001b[39;00m, session\u001b[38;5;241m=\u001b[39m\u001b[38;5;28;01mNone\u001b[39;00m):\n\u001b[1;32m    511\u001b[0m     \u001b[38;5;66;03m# SSLSocket class handles server_hostname encoding before it calls\u001b[39;00m\n\u001b[1;32m    512\u001b[0m     \u001b[38;5;66;03m# ctx._wrap_socket()\u001b[39;00m\n\u001b[0;32m--> 513\u001b[0m     \u001b[38;5;28;01mreturn\u001b[39;00m \u001b[38;5;28;43mself\u001b[39;49m\u001b[38;5;241;43m.\u001b[39;49m\u001b[43msslsocket_class\u001b[49m\u001b[38;5;241;43m.\u001b[39;49m\u001b[43m_create\u001b[49m\u001b[43m(\u001b[49m\n\u001b[1;32m    514\u001b[0m \u001b[43m        \u001b[49m\u001b[43msock\u001b[49m\u001b[38;5;241;43m=\u001b[39;49m\u001b[43msock\u001b[49m\u001b[43m,\u001b[49m\n\u001b[1;32m    515\u001b[0m \u001b[43m        \u001b[49m\u001b[43mserver_side\u001b[49m\u001b[38;5;241;43m=\u001b[39;49m\u001b[43mserver_side\u001b[49m\u001b[43m,\u001b[49m\n\u001b[1;32m    516\u001b[0m \u001b[43m        \u001b[49m\u001b[43mdo_handshake_on_connect\u001b[49m\u001b[38;5;241;43m=\u001b[39;49m\u001b[43mdo_handshake_on_connect\u001b[49m\u001b[43m,\u001b[49m\n\u001b[1;32m    517\u001b[0m \u001b[43m        \u001b[49m\u001b[43msuppress_ragged_eofs\u001b[49m\u001b[38;5;241;43m=\u001b[39;49m\u001b[43msuppress_ragged_eofs\u001b[49m\u001b[43m,\u001b[49m\n\u001b[1;32m    518\u001b[0m \u001b[43m        \u001b[49m\u001b[43mserver_hostname\u001b[49m\u001b[38;5;241;43m=\u001b[39;49m\u001b[43mserver_hostname\u001b[49m\u001b[43m,\u001b[49m\n\u001b[1;32m    519\u001b[0m \u001b[43m        \u001b[49m\u001b[43mcontext\u001b[49m\u001b[38;5;241;43m=\u001b[39;49m\u001b[38;5;28;43mself\u001b[39;49m\u001b[43m,\u001b[49m\n\u001b[1;32m    520\u001b[0m \u001b[43m        \u001b[49m\u001b[43msession\u001b[49m\u001b[38;5;241;43m=\u001b[39;49m\u001b[43msession\u001b[49m\n\u001b[1;32m    521\u001b[0m \u001b[43m    \u001b[49m\u001b[43m)\u001b[49m\n",
      "File \u001b[0;32m/opt/miniconda3/envs/local_RAG/lib/python3.10/ssl.py:1104\u001b[0m, in \u001b[0;36mSSLSocket._create\u001b[0;34m(cls, sock, server_side, do_handshake_on_connect, suppress_ragged_eofs, server_hostname, context, session)\u001b[0m\n\u001b[1;32m   1103\u001b[0m             \u001b[38;5;28;01mraise\u001b[39;00m \u001b[38;5;167;01mValueError\u001b[39;00m(\u001b[38;5;124m\"\u001b[39m\u001b[38;5;124mdo_handshake_on_connect should not be specified for non-blocking sockets\u001b[39m\u001b[38;5;124m\"\u001b[39m)\n\u001b[0;32m-> 1104\u001b[0m         \u001b[38;5;28;43mself\u001b[39;49m\u001b[38;5;241;43m.\u001b[39;49m\u001b[43mdo_handshake\u001b[49m\u001b[43m(\u001b[49m\u001b[43m)\u001b[49m\n\u001b[1;32m   1105\u001b[0m \u001b[38;5;28;01mexcept\u001b[39;00m (\u001b[38;5;167;01mOSError\u001b[39;00m, \u001b[38;5;167;01mValueError\u001b[39;00m):\n",
      "File \u001b[0;32m/opt/miniconda3/envs/local_RAG/lib/python3.10/ssl.py:1375\u001b[0m, in \u001b[0;36mSSLSocket.do_handshake\u001b[0;34m(self, block)\u001b[0m\n\u001b[1;32m   1374\u001b[0m         \u001b[38;5;28mself\u001b[39m\u001b[38;5;241m.\u001b[39msettimeout(\u001b[38;5;28;01mNone\u001b[39;00m)\n\u001b[0;32m-> 1375\u001b[0m     \u001b[38;5;28;43mself\u001b[39;49m\u001b[38;5;241;43m.\u001b[39;49m\u001b[43m_sslobj\u001b[49m\u001b[38;5;241;43m.\u001b[39;49m\u001b[43mdo_handshake\u001b[49m\u001b[43m(\u001b[49m\u001b[43m)\u001b[49m\n\u001b[1;32m   1376\u001b[0m \u001b[38;5;28;01mfinally\u001b[39;00m:\n",
      "\u001b[0;31mConnectionResetError\u001b[0m: [Errno 54] Connection reset by peer",
      "\nDuring handling of the above exception, another exception occurred:\n",
      "\u001b[0;31mProtocolError\u001b[0m                             Traceback (most recent call last)",
      "File \u001b[0;32m/opt/miniconda3/envs/local_RAG/lib/python3.10/site-packages/requests/adapters.py:667\u001b[0m, in \u001b[0;36mHTTPAdapter.send\u001b[0;34m(self, request, stream, timeout, verify, cert, proxies)\u001b[0m\n\u001b[1;32m    666\u001b[0m \u001b[38;5;28;01mtry\u001b[39;00m:\n\u001b[0;32m--> 667\u001b[0m     resp \u001b[38;5;241m=\u001b[39m \u001b[43mconn\u001b[49m\u001b[38;5;241;43m.\u001b[39;49m\u001b[43murlopen\u001b[49m\u001b[43m(\u001b[49m\n\u001b[1;32m    668\u001b[0m \u001b[43m        \u001b[49m\u001b[43mmethod\u001b[49m\u001b[38;5;241;43m=\u001b[39;49m\u001b[43mrequest\u001b[49m\u001b[38;5;241;43m.\u001b[39;49m\u001b[43mmethod\u001b[49m\u001b[43m,\u001b[49m\n\u001b[1;32m    669\u001b[0m \u001b[43m        \u001b[49m\u001b[43murl\u001b[49m\u001b[38;5;241;43m=\u001b[39;49m\u001b[43murl\u001b[49m\u001b[43m,\u001b[49m\n\u001b[1;32m    670\u001b[0m \u001b[43m        \u001b[49m\u001b[43mbody\u001b[49m\u001b[38;5;241;43m=\u001b[39;49m\u001b[43mrequest\u001b[49m\u001b[38;5;241;43m.\u001b[39;49m\u001b[43mbody\u001b[49m\u001b[43m,\u001b[49m\n\u001b[1;32m    671\u001b[0m \u001b[43m        \u001b[49m\u001b[43mheaders\u001b[49m\u001b[38;5;241;43m=\u001b[39;49m\u001b[43mrequest\u001b[49m\u001b[38;5;241;43m.\u001b[39;49m\u001b[43mheaders\u001b[49m\u001b[43m,\u001b[49m\n\u001b[1;32m    672\u001b[0m \u001b[43m        \u001b[49m\u001b[43mredirect\u001b[49m\u001b[38;5;241;43m=\u001b[39;49m\u001b[38;5;28;43;01mFalse\u001b[39;49;00m\u001b[43m,\u001b[49m\n\u001b[1;32m    673\u001b[0m \u001b[43m        \u001b[49m\u001b[43massert_same_host\u001b[49m\u001b[38;5;241;43m=\u001b[39;49m\u001b[38;5;28;43;01mFalse\u001b[39;49;00m\u001b[43m,\u001b[49m\n\u001b[1;32m    674\u001b[0m \u001b[43m        \u001b[49m\u001b[43mpreload_content\u001b[49m\u001b[38;5;241;43m=\u001b[39;49m\u001b[38;5;28;43;01mFalse\u001b[39;49;00m\u001b[43m,\u001b[49m\n\u001b[1;32m    675\u001b[0m \u001b[43m        \u001b[49m\u001b[43mdecode_content\u001b[49m\u001b[38;5;241;43m=\u001b[39;49m\u001b[38;5;28;43;01mFalse\u001b[39;49;00m\u001b[43m,\u001b[49m\n\u001b[1;32m    676\u001b[0m \u001b[43m        \u001b[49m\u001b[43mretries\u001b[49m\u001b[38;5;241;43m=\u001b[39;49m\u001b[38;5;28;43mself\u001b[39;49m\u001b[38;5;241;43m.\u001b[39;49m\u001b[43mmax_retries\u001b[49m\u001b[43m,\u001b[49m\n\u001b[1;32m    677\u001b[0m \u001b[43m        \u001b[49m\u001b[43mtimeout\u001b[49m\u001b[38;5;241;43m=\u001b[39;49m\u001b[43mtimeout\u001b[49m\u001b[43m,\u001b[49m\n\u001b[1;32m    678\u001b[0m \u001b[43m        \u001b[49m\u001b[43mchunked\u001b[49m\u001b[38;5;241;43m=\u001b[39;49m\u001b[43mchunked\u001b[49m\u001b[43m,\u001b[49m\n\u001b[1;32m    679\u001b[0m \u001b[43m    \u001b[49m\u001b[43m)\u001b[49m\n\u001b[1;32m    681\u001b[0m \u001b[38;5;28;01mexcept\u001b[39;00m (ProtocolError, \u001b[38;5;167;01mOSError\u001b[39;00m) \u001b[38;5;28;01mas\u001b[39;00m err:\n",
      "File \u001b[0;32m/opt/miniconda3/envs/local_RAG/lib/python3.10/site-packages/urllib3/connectionpool.py:841\u001b[0m, in \u001b[0;36mHTTPConnectionPool.urlopen\u001b[0;34m(self, method, url, body, headers, retries, redirect, assert_same_host, timeout, pool_timeout, release_conn, chunked, body_pos, preload_content, decode_content, **response_kw)\u001b[0m\n\u001b[1;32m    839\u001b[0m     new_e \u001b[38;5;241m=\u001b[39m ProtocolError(\u001b[38;5;124m\"\u001b[39m\u001b[38;5;124mConnection aborted.\u001b[39m\u001b[38;5;124m\"\u001b[39m, new_e)\n\u001b[0;32m--> 841\u001b[0m retries \u001b[38;5;241m=\u001b[39m \u001b[43mretries\u001b[49m\u001b[38;5;241;43m.\u001b[39;49m\u001b[43mincrement\u001b[49m\u001b[43m(\u001b[49m\n\u001b[1;32m    842\u001b[0m \u001b[43m    \u001b[49m\u001b[43mmethod\u001b[49m\u001b[43m,\u001b[49m\u001b[43m \u001b[49m\u001b[43murl\u001b[49m\u001b[43m,\u001b[49m\u001b[43m \u001b[49m\u001b[43merror\u001b[49m\u001b[38;5;241;43m=\u001b[39;49m\u001b[43mnew_e\u001b[49m\u001b[43m,\u001b[49m\u001b[43m \u001b[49m\u001b[43m_pool\u001b[49m\u001b[38;5;241;43m=\u001b[39;49m\u001b[38;5;28;43mself\u001b[39;49m\u001b[43m,\u001b[49m\u001b[43m \u001b[49m\u001b[43m_stacktrace\u001b[49m\u001b[38;5;241;43m=\u001b[39;49m\u001b[43msys\u001b[49m\u001b[38;5;241;43m.\u001b[39;49m\u001b[43mexc_info\u001b[49m\u001b[43m(\u001b[49m\u001b[43m)\u001b[49m\u001b[43m[\u001b[49m\u001b[38;5;241;43m2\u001b[39;49m\u001b[43m]\u001b[49m\n\u001b[1;32m    843\u001b[0m \u001b[43m\u001b[49m\u001b[43m)\u001b[49m\n\u001b[1;32m    844\u001b[0m retries\u001b[38;5;241m.\u001b[39msleep()\n",
      "File \u001b[0;32m/opt/miniconda3/envs/local_RAG/lib/python3.10/site-packages/urllib3/util/retry.py:474\u001b[0m, in \u001b[0;36mRetry.increment\u001b[0;34m(self, method, url, response, error, _pool, _stacktrace)\u001b[0m\n\u001b[1;32m    473\u001b[0m \u001b[38;5;28;01mif\u001b[39;00m read \u001b[38;5;129;01mis\u001b[39;00m \u001b[38;5;28;01mFalse\u001b[39;00m \u001b[38;5;129;01mor\u001b[39;00m method \u001b[38;5;129;01mis\u001b[39;00m \u001b[38;5;28;01mNone\u001b[39;00m \u001b[38;5;129;01mor\u001b[39;00m \u001b[38;5;129;01mnot\u001b[39;00m \u001b[38;5;28mself\u001b[39m\u001b[38;5;241m.\u001b[39m_is_method_retryable(method):\n\u001b[0;32m--> 474\u001b[0m     \u001b[38;5;28;01mraise\u001b[39;00m \u001b[43mreraise\u001b[49m\u001b[43m(\u001b[49m\u001b[38;5;28;43mtype\u001b[39;49m\u001b[43m(\u001b[49m\u001b[43merror\u001b[49m\u001b[43m)\u001b[49m\u001b[43m,\u001b[49m\u001b[43m \u001b[49m\u001b[43merror\u001b[49m\u001b[43m,\u001b[49m\u001b[43m \u001b[49m\u001b[43m_stacktrace\u001b[49m\u001b[43m)\u001b[49m\n\u001b[1;32m    475\u001b[0m \u001b[38;5;28;01melif\u001b[39;00m read \u001b[38;5;129;01mis\u001b[39;00m \u001b[38;5;129;01mnot\u001b[39;00m \u001b[38;5;28;01mNone\u001b[39;00m:\n",
      "File \u001b[0;32m/opt/miniconda3/envs/local_RAG/lib/python3.10/site-packages/urllib3/util/util.py:38\u001b[0m, in \u001b[0;36mreraise\u001b[0;34m(tp, value, tb)\u001b[0m\n\u001b[1;32m     37\u001b[0m \u001b[38;5;28;01mif\u001b[39;00m value\u001b[38;5;241m.\u001b[39m__traceback__ \u001b[38;5;129;01mis\u001b[39;00m \u001b[38;5;129;01mnot\u001b[39;00m tb:\n\u001b[0;32m---> 38\u001b[0m     \u001b[38;5;28;01mraise\u001b[39;00m value\u001b[38;5;241m.\u001b[39mwith_traceback(tb)\n\u001b[1;32m     39\u001b[0m \u001b[38;5;28;01mraise\u001b[39;00m value\n",
      "File \u001b[0;32m/opt/miniconda3/envs/local_RAG/lib/python3.10/site-packages/urllib3/connectionpool.py:787\u001b[0m, in \u001b[0;36mHTTPConnectionPool.urlopen\u001b[0;34m(self, method, url, body, headers, retries, redirect, assert_same_host, timeout, pool_timeout, release_conn, chunked, body_pos, preload_content, decode_content, **response_kw)\u001b[0m\n\u001b[1;32m    786\u001b[0m \u001b[38;5;66;03m# Make the request on the HTTPConnection object\u001b[39;00m\n\u001b[0;32m--> 787\u001b[0m response \u001b[38;5;241m=\u001b[39m \u001b[38;5;28;43mself\u001b[39;49m\u001b[38;5;241;43m.\u001b[39;49m\u001b[43m_make_request\u001b[49m\u001b[43m(\u001b[49m\n\u001b[1;32m    788\u001b[0m \u001b[43m    \u001b[49m\u001b[43mconn\u001b[49m\u001b[43m,\u001b[49m\n\u001b[1;32m    789\u001b[0m \u001b[43m    \u001b[49m\u001b[43mmethod\u001b[49m\u001b[43m,\u001b[49m\n\u001b[1;32m    790\u001b[0m \u001b[43m    \u001b[49m\u001b[43murl\u001b[49m\u001b[43m,\u001b[49m\n\u001b[1;32m    791\u001b[0m \u001b[43m    \u001b[49m\u001b[43mtimeout\u001b[49m\u001b[38;5;241;43m=\u001b[39;49m\u001b[43mtimeout_obj\u001b[49m\u001b[43m,\u001b[49m\n\u001b[1;32m    792\u001b[0m \u001b[43m    \u001b[49m\u001b[43mbody\u001b[49m\u001b[38;5;241;43m=\u001b[39;49m\u001b[43mbody\u001b[49m\u001b[43m,\u001b[49m\n\u001b[1;32m    793\u001b[0m \u001b[43m    \u001b[49m\u001b[43mheaders\u001b[49m\u001b[38;5;241;43m=\u001b[39;49m\u001b[43mheaders\u001b[49m\u001b[43m,\u001b[49m\n\u001b[1;32m    794\u001b[0m \u001b[43m    \u001b[49m\u001b[43mchunked\u001b[49m\u001b[38;5;241;43m=\u001b[39;49m\u001b[43mchunked\u001b[49m\u001b[43m,\u001b[49m\n\u001b[1;32m    795\u001b[0m \u001b[43m    \u001b[49m\u001b[43mretries\u001b[49m\u001b[38;5;241;43m=\u001b[39;49m\u001b[43mretries\u001b[49m\u001b[43m,\u001b[49m\n\u001b[1;32m    796\u001b[0m \u001b[43m    \u001b[49m\u001b[43mresponse_conn\u001b[49m\u001b[38;5;241;43m=\u001b[39;49m\u001b[43mresponse_conn\u001b[49m\u001b[43m,\u001b[49m\n\u001b[1;32m    797\u001b[0m \u001b[43m    \u001b[49m\u001b[43mpreload_content\u001b[49m\u001b[38;5;241;43m=\u001b[39;49m\u001b[43mpreload_content\u001b[49m\u001b[43m,\u001b[49m\n\u001b[1;32m    798\u001b[0m \u001b[43m    \u001b[49m\u001b[43mdecode_content\u001b[49m\u001b[38;5;241;43m=\u001b[39;49m\u001b[43mdecode_content\u001b[49m\u001b[43m,\u001b[49m\n\u001b[1;32m    799\u001b[0m \u001b[43m    \u001b[49m\u001b[38;5;241;43m*\u001b[39;49m\u001b[38;5;241;43m*\u001b[39;49m\u001b[43mresponse_kw\u001b[49m\u001b[43m,\u001b[49m\n\u001b[1;32m    800\u001b[0m \u001b[43m\u001b[49m\u001b[43m)\u001b[49m\n\u001b[1;32m    802\u001b[0m \u001b[38;5;66;03m# Everything went great!\u001b[39;00m\n",
      "File \u001b[0;32m/opt/miniconda3/envs/local_RAG/lib/python3.10/site-packages/urllib3/connectionpool.py:488\u001b[0m, in \u001b[0;36mHTTPConnectionPool._make_request\u001b[0;34m(self, conn, method, url, body, headers, retries, timeout, chunked, response_conn, preload_content, decode_content, enforce_content_length)\u001b[0m\n\u001b[1;32m    487\u001b[0m         new_e \u001b[38;5;241m=\u001b[39m _wrap_proxy_error(new_e, conn\u001b[38;5;241m.\u001b[39mproxy\u001b[38;5;241m.\u001b[39mscheme)\n\u001b[0;32m--> 488\u001b[0m     \u001b[38;5;28;01mraise\u001b[39;00m new_e\n\u001b[1;32m    490\u001b[0m \u001b[38;5;66;03m# conn.request() calls http.client.*.request, not the method in\u001b[39;00m\n\u001b[1;32m    491\u001b[0m \u001b[38;5;66;03m# urllib3.request. It also calls makefile (recv) on the socket.\u001b[39;00m\n",
      "File \u001b[0;32m/opt/miniconda3/envs/local_RAG/lib/python3.10/site-packages/urllib3/connectionpool.py:464\u001b[0m, in \u001b[0;36mHTTPConnectionPool._make_request\u001b[0;34m(self, conn, method, url, body, headers, retries, timeout, chunked, response_conn, preload_content, decode_content, enforce_content_length)\u001b[0m\n\u001b[1;32m    463\u001b[0m \u001b[38;5;28;01mtry\u001b[39;00m:\n\u001b[0;32m--> 464\u001b[0m     \u001b[38;5;28;43mself\u001b[39;49m\u001b[38;5;241;43m.\u001b[39;49m\u001b[43m_validate_conn\u001b[49m\u001b[43m(\u001b[49m\u001b[43mconn\u001b[49m\u001b[43m)\u001b[49m\n\u001b[1;32m    465\u001b[0m \u001b[38;5;28;01mexcept\u001b[39;00m (SocketTimeout, BaseSSLError) \u001b[38;5;28;01mas\u001b[39;00m e:\n",
      "File \u001b[0;32m/opt/miniconda3/envs/local_RAG/lib/python3.10/site-packages/urllib3/connectionpool.py:1093\u001b[0m, in \u001b[0;36mHTTPSConnectionPool._validate_conn\u001b[0;34m(self, conn)\u001b[0m\n\u001b[1;32m   1092\u001b[0m \u001b[38;5;28;01mif\u001b[39;00m conn\u001b[38;5;241m.\u001b[39mis_closed:\n\u001b[0;32m-> 1093\u001b[0m     \u001b[43mconn\u001b[49m\u001b[38;5;241;43m.\u001b[39;49m\u001b[43mconnect\u001b[49m\u001b[43m(\u001b[49m\u001b[43m)\u001b[49m\n\u001b[1;32m   1095\u001b[0m \u001b[38;5;66;03m# TODO revise this, see https://github.com/urllib3/urllib3/issues/2791\u001b[39;00m\n",
      "File \u001b[0;32m/opt/miniconda3/envs/local_RAG/lib/python3.10/site-packages/urllib3/connection.py:741\u001b[0m, in \u001b[0;36mHTTPSConnection.connect\u001b[0;34m(self)\u001b[0m\n\u001b[1;32m    739\u001b[0m server_hostname_rm_dot \u001b[38;5;241m=\u001b[39m server_hostname\u001b[38;5;241m.\u001b[39mrstrip(\u001b[38;5;124m\"\u001b[39m\u001b[38;5;124m.\u001b[39m\u001b[38;5;124m\"\u001b[39m)\n\u001b[0;32m--> 741\u001b[0m sock_and_verified \u001b[38;5;241m=\u001b[39m \u001b[43m_ssl_wrap_socket_and_match_hostname\u001b[49m\u001b[43m(\u001b[49m\n\u001b[1;32m    742\u001b[0m \u001b[43m    \u001b[49m\u001b[43msock\u001b[49m\u001b[38;5;241;43m=\u001b[39;49m\u001b[43msock\u001b[49m\u001b[43m,\u001b[49m\n\u001b[1;32m    743\u001b[0m \u001b[43m    \u001b[49m\u001b[43mcert_reqs\u001b[49m\u001b[38;5;241;43m=\u001b[39;49m\u001b[38;5;28;43mself\u001b[39;49m\u001b[38;5;241;43m.\u001b[39;49m\u001b[43mcert_reqs\u001b[49m\u001b[43m,\u001b[49m\n\u001b[1;32m    744\u001b[0m \u001b[43m    \u001b[49m\u001b[43mssl_version\u001b[49m\u001b[38;5;241;43m=\u001b[39;49m\u001b[38;5;28;43mself\u001b[39;49m\u001b[38;5;241;43m.\u001b[39;49m\u001b[43mssl_version\u001b[49m\u001b[43m,\u001b[49m\n\u001b[1;32m    745\u001b[0m \u001b[43m    \u001b[49m\u001b[43mssl_minimum_version\u001b[49m\u001b[38;5;241;43m=\u001b[39;49m\u001b[38;5;28;43mself\u001b[39;49m\u001b[38;5;241;43m.\u001b[39;49m\u001b[43mssl_minimum_version\u001b[49m\u001b[43m,\u001b[49m\n\u001b[1;32m    746\u001b[0m \u001b[43m    \u001b[49m\u001b[43mssl_maximum_version\u001b[49m\u001b[38;5;241;43m=\u001b[39;49m\u001b[38;5;28;43mself\u001b[39;49m\u001b[38;5;241;43m.\u001b[39;49m\u001b[43mssl_maximum_version\u001b[49m\u001b[43m,\u001b[49m\n\u001b[1;32m    747\u001b[0m \u001b[43m    \u001b[49m\u001b[43mca_certs\u001b[49m\u001b[38;5;241;43m=\u001b[39;49m\u001b[38;5;28;43mself\u001b[39;49m\u001b[38;5;241;43m.\u001b[39;49m\u001b[43mca_certs\u001b[49m\u001b[43m,\u001b[49m\n\u001b[1;32m    748\u001b[0m \u001b[43m    \u001b[49m\u001b[43mca_cert_dir\u001b[49m\u001b[38;5;241;43m=\u001b[39;49m\u001b[38;5;28;43mself\u001b[39;49m\u001b[38;5;241;43m.\u001b[39;49m\u001b[43mca_cert_dir\u001b[49m\u001b[43m,\u001b[49m\n\u001b[1;32m    749\u001b[0m \u001b[43m    \u001b[49m\u001b[43mca_cert_data\u001b[49m\u001b[38;5;241;43m=\u001b[39;49m\u001b[38;5;28;43mself\u001b[39;49m\u001b[38;5;241;43m.\u001b[39;49m\u001b[43mca_cert_data\u001b[49m\u001b[43m,\u001b[49m\n\u001b[1;32m    750\u001b[0m \u001b[43m    \u001b[49m\u001b[43mcert_file\u001b[49m\u001b[38;5;241;43m=\u001b[39;49m\u001b[38;5;28;43mself\u001b[39;49m\u001b[38;5;241;43m.\u001b[39;49m\u001b[43mcert_file\u001b[49m\u001b[43m,\u001b[49m\n\u001b[1;32m    751\u001b[0m \u001b[43m    \u001b[49m\u001b[43mkey_file\u001b[49m\u001b[38;5;241;43m=\u001b[39;49m\u001b[38;5;28;43mself\u001b[39;49m\u001b[38;5;241;43m.\u001b[39;49m\u001b[43mkey_file\u001b[49m\u001b[43m,\u001b[49m\n\u001b[1;32m    752\u001b[0m \u001b[43m    \u001b[49m\u001b[43mkey_password\u001b[49m\u001b[38;5;241;43m=\u001b[39;49m\u001b[38;5;28;43mself\u001b[39;49m\u001b[38;5;241;43m.\u001b[39;49m\u001b[43mkey_password\u001b[49m\u001b[43m,\u001b[49m\n\u001b[1;32m    753\u001b[0m \u001b[43m    \u001b[49m\u001b[43mserver_hostname\u001b[49m\u001b[38;5;241;43m=\u001b[39;49m\u001b[43mserver_hostname_rm_dot\u001b[49m\u001b[43m,\u001b[49m\n\u001b[1;32m    754\u001b[0m \u001b[43m    \u001b[49m\u001b[43mssl_context\u001b[49m\u001b[38;5;241;43m=\u001b[39;49m\u001b[38;5;28;43mself\u001b[39;49m\u001b[38;5;241;43m.\u001b[39;49m\u001b[43mssl_context\u001b[49m\u001b[43m,\u001b[49m\n\u001b[1;32m    755\u001b[0m \u001b[43m    \u001b[49m\u001b[43mtls_in_tls\u001b[49m\u001b[38;5;241;43m=\u001b[39;49m\u001b[43mtls_in_tls\u001b[49m\u001b[43m,\u001b[49m\n\u001b[1;32m    756\u001b[0m \u001b[43m    \u001b[49m\u001b[43massert_hostname\u001b[49m\u001b[38;5;241;43m=\u001b[39;49m\u001b[38;5;28;43mself\u001b[39;49m\u001b[38;5;241;43m.\u001b[39;49m\u001b[43massert_hostname\u001b[49m\u001b[43m,\u001b[49m\n\u001b[1;32m    757\u001b[0m \u001b[43m    \u001b[49m\u001b[43massert_fingerprint\u001b[49m\u001b[38;5;241;43m=\u001b[39;49m\u001b[38;5;28;43mself\u001b[39;49m\u001b[38;5;241;43m.\u001b[39;49m\u001b[43massert_fingerprint\u001b[49m\u001b[43m,\u001b[49m\n\u001b[1;32m    758\u001b[0m \u001b[43m\u001b[49m\u001b[43m)\u001b[49m\n\u001b[1;32m    759\u001b[0m \u001b[38;5;28mself\u001b[39m\u001b[38;5;241m.\u001b[39msock \u001b[38;5;241m=\u001b[39m sock_and_verified\u001b[38;5;241m.\u001b[39msocket\n",
      "File \u001b[0;32m/opt/miniconda3/envs/local_RAG/lib/python3.10/site-packages/urllib3/connection.py:920\u001b[0m, in \u001b[0;36m_ssl_wrap_socket_and_match_hostname\u001b[0;34m(sock, cert_reqs, ssl_version, ssl_minimum_version, ssl_maximum_version, cert_file, key_file, key_password, ca_certs, ca_cert_dir, ca_cert_data, assert_hostname, assert_fingerprint, server_hostname, ssl_context, tls_in_tls)\u001b[0m\n\u001b[1;32m    918\u001b[0m         server_hostname \u001b[38;5;241m=\u001b[39m normalized\n\u001b[0;32m--> 920\u001b[0m ssl_sock \u001b[38;5;241m=\u001b[39m \u001b[43mssl_wrap_socket\u001b[49m\u001b[43m(\u001b[49m\n\u001b[1;32m    921\u001b[0m \u001b[43m    \u001b[49m\u001b[43msock\u001b[49m\u001b[38;5;241;43m=\u001b[39;49m\u001b[43msock\u001b[49m\u001b[43m,\u001b[49m\n\u001b[1;32m    922\u001b[0m \u001b[43m    \u001b[49m\u001b[43mkeyfile\u001b[49m\u001b[38;5;241;43m=\u001b[39;49m\u001b[43mkey_file\u001b[49m\u001b[43m,\u001b[49m\n\u001b[1;32m    923\u001b[0m \u001b[43m    \u001b[49m\u001b[43mcertfile\u001b[49m\u001b[38;5;241;43m=\u001b[39;49m\u001b[43mcert_file\u001b[49m\u001b[43m,\u001b[49m\n\u001b[1;32m    924\u001b[0m \u001b[43m    \u001b[49m\u001b[43mkey_password\u001b[49m\u001b[38;5;241;43m=\u001b[39;49m\u001b[43mkey_password\u001b[49m\u001b[43m,\u001b[49m\n\u001b[1;32m    925\u001b[0m \u001b[43m    \u001b[49m\u001b[43mca_certs\u001b[49m\u001b[38;5;241;43m=\u001b[39;49m\u001b[43mca_certs\u001b[49m\u001b[43m,\u001b[49m\n\u001b[1;32m    926\u001b[0m \u001b[43m    \u001b[49m\u001b[43mca_cert_dir\u001b[49m\u001b[38;5;241;43m=\u001b[39;49m\u001b[43mca_cert_dir\u001b[49m\u001b[43m,\u001b[49m\n\u001b[1;32m    927\u001b[0m \u001b[43m    \u001b[49m\u001b[43mca_cert_data\u001b[49m\u001b[38;5;241;43m=\u001b[39;49m\u001b[43mca_cert_data\u001b[49m\u001b[43m,\u001b[49m\n\u001b[1;32m    928\u001b[0m \u001b[43m    \u001b[49m\u001b[43mserver_hostname\u001b[49m\u001b[38;5;241;43m=\u001b[39;49m\u001b[43mserver_hostname\u001b[49m\u001b[43m,\u001b[49m\n\u001b[1;32m    929\u001b[0m \u001b[43m    \u001b[49m\u001b[43mssl_context\u001b[49m\u001b[38;5;241;43m=\u001b[39;49m\u001b[43mcontext\u001b[49m\u001b[43m,\u001b[49m\n\u001b[1;32m    930\u001b[0m \u001b[43m    \u001b[49m\u001b[43mtls_in_tls\u001b[49m\u001b[38;5;241;43m=\u001b[39;49m\u001b[43mtls_in_tls\u001b[49m\u001b[43m,\u001b[49m\n\u001b[1;32m    931\u001b[0m \u001b[43m\u001b[49m\u001b[43m)\u001b[49m\n\u001b[1;32m    933\u001b[0m \u001b[38;5;28;01mtry\u001b[39;00m:\n",
      "File \u001b[0;32m/opt/miniconda3/envs/local_RAG/lib/python3.10/site-packages/urllib3/util/ssl_.py:460\u001b[0m, in \u001b[0;36mssl_wrap_socket\u001b[0;34m(sock, keyfile, certfile, cert_reqs, ca_certs, server_hostname, ssl_version, ciphers, ssl_context, ca_cert_dir, key_password, ca_cert_data, tls_in_tls)\u001b[0m\n\u001b[1;32m    458\u001b[0m context\u001b[38;5;241m.\u001b[39mset_alpn_protocols(ALPN_PROTOCOLS)\n\u001b[0;32m--> 460\u001b[0m ssl_sock \u001b[38;5;241m=\u001b[39m \u001b[43m_ssl_wrap_socket_impl\u001b[49m\u001b[43m(\u001b[49m\u001b[43msock\u001b[49m\u001b[43m,\u001b[49m\u001b[43m \u001b[49m\u001b[43mcontext\u001b[49m\u001b[43m,\u001b[49m\u001b[43m \u001b[49m\u001b[43mtls_in_tls\u001b[49m\u001b[43m,\u001b[49m\u001b[43m \u001b[49m\u001b[43mserver_hostname\u001b[49m\u001b[43m)\u001b[49m\n\u001b[1;32m    461\u001b[0m \u001b[38;5;28;01mreturn\u001b[39;00m ssl_sock\n",
      "File \u001b[0;32m/opt/miniconda3/envs/local_RAG/lib/python3.10/site-packages/urllib3/util/ssl_.py:504\u001b[0m, in \u001b[0;36m_ssl_wrap_socket_impl\u001b[0;34m(sock, ssl_context, tls_in_tls, server_hostname)\u001b[0m\n\u001b[1;32m    502\u001b[0m     \u001b[38;5;28;01mreturn\u001b[39;00m SSLTransport(sock, ssl_context, server_hostname)\n\u001b[0;32m--> 504\u001b[0m \u001b[38;5;28;01mreturn\u001b[39;00m \u001b[43mssl_context\u001b[49m\u001b[38;5;241;43m.\u001b[39;49m\u001b[43mwrap_socket\u001b[49m\u001b[43m(\u001b[49m\u001b[43msock\u001b[49m\u001b[43m,\u001b[49m\u001b[43m \u001b[49m\u001b[43mserver_hostname\u001b[49m\u001b[38;5;241;43m=\u001b[39;49m\u001b[43mserver_hostname\u001b[49m\u001b[43m)\u001b[49m\n",
      "File \u001b[0;32m/opt/miniconda3/envs/local_RAG/lib/python3.10/ssl.py:513\u001b[0m, in \u001b[0;36mSSLContext.wrap_socket\u001b[0;34m(self, sock, server_side, do_handshake_on_connect, suppress_ragged_eofs, server_hostname, session)\u001b[0m\n\u001b[1;32m    507\u001b[0m \u001b[38;5;28;01mdef\u001b[39;00m\u001b[38;5;250m \u001b[39m\u001b[38;5;21mwrap_socket\u001b[39m(\u001b[38;5;28mself\u001b[39m, sock, server_side\u001b[38;5;241m=\u001b[39m\u001b[38;5;28;01mFalse\u001b[39;00m,\n\u001b[1;32m    508\u001b[0m                 do_handshake_on_connect\u001b[38;5;241m=\u001b[39m\u001b[38;5;28;01mTrue\u001b[39;00m,\n\u001b[1;32m    509\u001b[0m                 suppress_ragged_eofs\u001b[38;5;241m=\u001b[39m\u001b[38;5;28;01mTrue\u001b[39;00m,\n\u001b[1;32m    510\u001b[0m                 server_hostname\u001b[38;5;241m=\u001b[39m\u001b[38;5;28;01mNone\u001b[39;00m, session\u001b[38;5;241m=\u001b[39m\u001b[38;5;28;01mNone\u001b[39;00m):\n\u001b[1;32m    511\u001b[0m     \u001b[38;5;66;03m# SSLSocket class handles server_hostname encoding before it calls\u001b[39;00m\n\u001b[1;32m    512\u001b[0m     \u001b[38;5;66;03m# ctx._wrap_socket()\u001b[39;00m\n\u001b[0;32m--> 513\u001b[0m     \u001b[38;5;28;01mreturn\u001b[39;00m \u001b[38;5;28;43mself\u001b[39;49m\u001b[38;5;241;43m.\u001b[39;49m\u001b[43msslsocket_class\u001b[49m\u001b[38;5;241;43m.\u001b[39;49m\u001b[43m_create\u001b[49m\u001b[43m(\u001b[49m\n\u001b[1;32m    514\u001b[0m \u001b[43m        \u001b[49m\u001b[43msock\u001b[49m\u001b[38;5;241;43m=\u001b[39;49m\u001b[43msock\u001b[49m\u001b[43m,\u001b[49m\n\u001b[1;32m    515\u001b[0m \u001b[43m        \u001b[49m\u001b[43mserver_side\u001b[49m\u001b[38;5;241;43m=\u001b[39;49m\u001b[43mserver_side\u001b[49m\u001b[43m,\u001b[49m\n\u001b[1;32m    516\u001b[0m \u001b[43m        \u001b[49m\u001b[43mdo_handshake_on_connect\u001b[49m\u001b[38;5;241;43m=\u001b[39;49m\u001b[43mdo_handshake_on_connect\u001b[49m\u001b[43m,\u001b[49m\n\u001b[1;32m    517\u001b[0m \u001b[43m        \u001b[49m\u001b[43msuppress_ragged_eofs\u001b[49m\u001b[38;5;241;43m=\u001b[39;49m\u001b[43msuppress_ragged_eofs\u001b[49m\u001b[43m,\u001b[49m\n\u001b[1;32m    518\u001b[0m \u001b[43m        \u001b[49m\u001b[43mserver_hostname\u001b[49m\u001b[38;5;241;43m=\u001b[39;49m\u001b[43mserver_hostname\u001b[49m\u001b[43m,\u001b[49m\n\u001b[1;32m    519\u001b[0m \u001b[43m        \u001b[49m\u001b[43mcontext\u001b[49m\u001b[38;5;241;43m=\u001b[39;49m\u001b[38;5;28;43mself\u001b[39;49m\u001b[43m,\u001b[49m\n\u001b[1;32m    520\u001b[0m \u001b[43m        \u001b[49m\u001b[43msession\u001b[49m\u001b[38;5;241;43m=\u001b[39;49m\u001b[43msession\u001b[49m\n\u001b[1;32m    521\u001b[0m \u001b[43m    \u001b[49m\u001b[43m)\u001b[49m\n",
      "File \u001b[0;32m/opt/miniconda3/envs/local_RAG/lib/python3.10/ssl.py:1104\u001b[0m, in \u001b[0;36mSSLSocket._create\u001b[0;34m(cls, sock, server_side, do_handshake_on_connect, suppress_ragged_eofs, server_hostname, context, session)\u001b[0m\n\u001b[1;32m   1103\u001b[0m             \u001b[38;5;28;01mraise\u001b[39;00m \u001b[38;5;167;01mValueError\u001b[39;00m(\u001b[38;5;124m\"\u001b[39m\u001b[38;5;124mdo_handshake_on_connect should not be specified for non-blocking sockets\u001b[39m\u001b[38;5;124m\"\u001b[39m)\n\u001b[0;32m-> 1104\u001b[0m         \u001b[38;5;28;43mself\u001b[39;49m\u001b[38;5;241;43m.\u001b[39;49m\u001b[43mdo_handshake\u001b[49m\u001b[43m(\u001b[49m\u001b[43m)\u001b[49m\n\u001b[1;32m   1105\u001b[0m \u001b[38;5;28;01mexcept\u001b[39;00m (\u001b[38;5;167;01mOSError\u001b[39;00m, \u001b[38;5;167;01mValueError\u001b[39;00m):\n",
      "File \u001b[0;32m/opt/miniconda3/envs/local_RAG/lib/python3.10/ssl.py:1375\u001b[0m, in \u001b[0;36mSSLSocket.do_handshake\u001b[0;34m(self, block)\u001b[0m\n\u001b[1;32m   1374\u001b[0m         \u001b[38;5;28mself\u001b[39m\u001b[38;5;241m.\u001b[39msettimeout(\u001b[38;5;28;01mNone\u001b[39;00m)\n\u001b[0;32m-> 1375\u001b[0m     \u001b[38;5;28;43mself\u001b[39;49m\u001b[38;5;241;43m.\u001b[39;49m\u001b[43m_sslobj\u001b[49m\u001b[38;5;241;43m.\u001b[39;49m\u001b[43mdo_handshake\u001b[49m\u001b[43m(\u001b[49m\u001b[43m)\u001b[49m\n\u001b[1;32m   1376\u001b[0m \u001b[38;5;28;01mfinally\u001b[39;00m:\n",
      "\u001b[0;31mProtocolError\u001b[0m: ('Connection aborted.', ConnectionResetError(54, 'Connection reset by peer'))",
      "\nDuring handling of the above exception, another exception occurred:\n",
      "\u001b[0;31mConnectionError\u001b[0m                           Traceback (most recent call last)",
      "Cell \u001b[0;32mIn[1], line 6\u001b[0m\n\u001b[1;32m      3\u001b[0m \u001b[38;5;28;01mfrom\u001b[39;00m\u001b[38;5;250m \u001b[39m\u001b[38;5;21;01mllama_index\u001b[39;00m\u001b[38;5;21;01m.\u001b[39;00m\u001b[38;5;21;01mcore\u001b[39;00m\u001b[38;5;250m \u001b[39m\u001b[38;5;28;01mimport\u001b[39;00m VectorStoreIndex\n\u001b[1;32m      5\u001b[0m \u001b[38;5;66;03m# download and install dependencies for benchmark dataset\u001b[39;00m\n\u001b[0;32m----> 6\u001b[0m rag_dataset, documents \u001b[38;5;241m=\u001b[39m \u001b[43mdownload_llama_dataset\u001b[49m\u001b[43m(\u001b[49m\n\u001b[1;32m      7\u001b[0m \u001b[43m    \u001b[49m\u001b[38;5;124;43m\"\u001b[39;49m\u001b[38;5;124;43mPaulGrahamEssayDataset\u001b[39;49m\u001b[38;5;124;43m\"\u001b[39;49m\u001b[43m,\u001b[49m\u001b[43m \u001b[49m\u001b[38;5;124;43m\"\u001b[39;49m\u001b[38;5;124;43m./data\u001b[39;49m\u001b[38;5;124;43m\"\u001b[39;49m\n\u001b[1;32m      8\u001b[0m \u001b[43m)\u001b[49m\n",
      "File \u001b[0;32m/opt/miniconda3/envs/local_RAG/lib/python3.10/site-packages/llama_index/core/llama_dataset/download.py:68\u001b[0m, in \u001b[0;36mdownload_llama_dataset\u001b[0;34m(llama_dataset_class, download_dir, llama_datasets_url, llama_datasets_lfs_url, llama_datasets_source_files_tree_url, show_progress, load_documents)\u001b[0m\n\u001b[1;32m     35\u001b[0m \u001b[38;5;28;01mdef\u001b[39;00m\u001b[38;5;250m \u001b[39m\u001b[38;5;21mdownload_llama_dataset\u001b[39m(\n\u001b[1;32m     36\u001b[0m     llama_dataset_class: \u001b[38;5;28mstr\u001b[39m,\n\u001b[1;32m     37\u001b[0m     download_dir: \u001b[38;5;28mstr\u001b[39m,\n\u001b[0;32m   (...)\u001b[0m\n\u001b[1;32m     42\u001b[0m     load_documents: \u001b[38;5;28mbool\u001b[39m \u001b[38;5;241m=\u001b[39m \u001b[38;5;28;01mTrue\u001b[39;00m,\n\u001b[1;32m     43\u001b[0m ) \u001b[38;5;241m-\u001b[39m\u001b[38;5;241m>\u001b[39m Tuple[BaseLlamaDataset, List[Document]]:\n\u001b[1;32m     44\u001b[0m \u001b[38;5;250m    \u001b[39m\u001b[38;5;124;03m\"\"\"Download dataset from datasets-LFS and llamahub.\u001b[39;00m\n\u001b[1;32m     45\u001b[0m \n\u001b[1;32m     46\u001b[0m \u001b[38;5;124;03m    Args:\u001b[39;00m\n\u001b[0;32m   (...)\u001b[0m\n\u001b[1;32m     66\u001b[0m \u001b[38;5;124;03m        a `BaseLlamaDataset` and a `List[Document]`\u001b[39;00m\n\u001b[1;32m     67\u001b[0m \u001b[38;5;124;03m    \"\"\"\u001b[39;00m\n\u001b[0;32m---> 68\u001b[0m     filenames: Tuple[\u001b[38;5;28mstr\u001b[39m, \u001b[38;5;28mstr\u001b[39m] \u001b[38;5;241m=\u001b[39m \u001b[43mdownload\u001b[49m\u001b[43m(\u001b[49m\n\u001b[1;32m     69\u001b[0m \u001b[43m        \u001b[49m\u001b[43mllama_dataset_class\u001b[49m\u001b[43m,\u001b[49m\n\u001b[1;32m     70\u001b[0m \u001b[43m        \u001b[49m\u001b[43mllama_datasets_url\u001b[49m\u001b[38;5;241;43m=\u001b[39;49m\u001b[43mllama_datasets_url\u001b[49m\u001b[43m,\u001b[49m\n\u001b[1;32m     71\u001b[0m \u001b[43m        \u001b[49m\u001b[43mllama_datasets_lfs_url\u001b[49m\u001b[38;5;241;43m=\u001b[39;49m\u001b[43mllama_datasets_lfs_url\u001b[49m\u001b[43m,\u001b[49m\n\u001b[1;32m     72\u001b[0m \u001b[43m        \u001b[49m\u001b[43mllama_datasets_source_files_tree_url\u001b[49m\u001b[38;5;241;43m=\u001b[39;49m\u001b[43mllama_datasets_source_files_tree_url\u001b[49m\u001b[43m,\u001b[49m\n\u001b[1;32m     73\u001b[0m \u001b[43m        \u001b[49m\u001b[43mrefresh_cache\u001b[49m\u001b[38;5;241;43m=\u001b[39;49m\u001b[38;5;28;43;01mTrue\u001b[39;49;00m\u001b[43m,\u001b[49m\n\u001b[1;32m     74\u001b[0m \u001b[43m        \u001b[49m\u001b[43mcustom_path\u001b[49m\u001b[38;5;241;43m=\u001b[39;49m\u001b[43mdownload_dir\u001b[49m\u001b[43m,\u001b[49m\n\u001b[1;32m     75\u001b[0m \u001b[43m        \u001b[49m\u001b[43mlibrary_path\u001b[49m\u001b[38;5;241;43m=\u001b[39;49m\u001b[38;5;124;43m\"\u001b[39;49m\u001b[38;5;124;43mlibrary.json\u001b[39;49m\u001b[38;5;124;43m\"\u001b[39;49m\u001b[43m,\u001b[49m\n\u001b[1;32m     76\u001b[0m \u001b[43m        \u001b[49m\u001b[43mdisable_library_cache\u001b[49m\u001b[38;5;241;43m=\u001b[39;49m\u001b[38;5;28;43;01mTrue\u001b[39;49;00m\u001b[43m,\u001b[49m\n\u001b[1;32m     77\u001b[0m \u001b[43m        \u001b[49m\u001b[43moverride_path\u001b[49m\u001b[38;5;241;43m=\u001b[39;49m\u001b[38;5;28;43;01mTrue\u001b[39;49;00m\u001b[43m,\u001b[49m\n\u001b[1;32m     78\u001b[0m \u001b[43m        \u001b[49m\u001b[43mshow_progress\u001b[49m\u001b[38;5;241;43m=\u001b[39;49m\u001b[43mshow_progress\u001b[49m\u001b[43m,\u001b[49m\n\u001b[1;32m     79\u001b[0m \u001b[43m    \u001b[49m\u001b[43m)\u001b[49m\n\u001b[1;32m     80\u001b[0m     dataset_filename, source_files_dir \u001b[38;5;241m=\u001b[39m filenames\n\u001b[1;32m     81\u001b[0m     track_download(llama_dataset_class, MODULE_TYPE\u001b[38;5;241m.\u001b[39mDATASETS)\n",
      "File \u001b[0;32m/opt/miniconda3/envs/local_RAG/lib/python3.10/site-packages/llama_index/core/download/dataset.py:225\u001b[0m, in \u001b[0;36mdownload_llama_dataset\u001b[0;34m(dataset_class, llama_datasets_url, llama_datasets_lfs_url, llama_datasets_source_files_tree_url, refresh_cache, custom_dir, custom_path, source_files_dirpath, library_path, disable_library_cache, override_path, show_progress)\u001b[0m\n\u001b[1;32m    222\u001b[0m dirpath \u001b[38;5;241m=\u001b[39m initialize_directory(custom_path\u001b[38;5;241m=\u001b[39mcustom_path, custom_dir\u001b[38;5;241m=\u001b[39mcustom_dir)\n\u001b[1;32m    224\u001b[0m \u001b[38;5;66;03m# fetch info from library.json file\u001b[39;00m\n\u001b[0;32m--> 225\u001b[0m dataset_info \u001b[38;5;241m=\u001b[39m \u001b[43mget_dataset_info\u001b[49m\u001b[43m(\u001b[49m\n\u001b[1;32m    226\u001b[0m \u001b[43m    \u001b[49m\u001b[43mlocal_dir_path\u001b[49m\u001b[38;5;241;43m=\u001b[39;49m\u001b[43mdirpath\u001b[49m\u001b[43m,\u001b[49m\n\u001b[1;32m    227\u001b[0m \u001b[43m    \u001b[49m\u001b[43mremote_dir_path\u001b[49m\u001b[38;5;241;43m=\u001b[39;49m\u001b[43mllama_datasets_url\u001b[49m\u001b[43m,\u001b[49m\n\u001b[1;32m    228\u001b[0m \u001b[43m    \u001b[49m\u001b[43mremote_source_dir_path\u001b[49m\u001b[38;5;241;43m=\u001b[39;49m\u001b[43mllama_datasets_source_files_tree_url\u001b[49m\u001b[43m,\u001b[49m\n\u001b[1;32m    229\u001b[0m \u001b[43m    \u001b[49m\u001b[43mdataset_class\u001b[49m\u001b[38;5;241;43m=\u001b[39;49m\u001b[43mdataset_class\u001b[49m\u001b[43m,\u001b[49m\n\u001b[1;32m    230\u001b[0m \u001b[43m    \u001b[49m\u001b[43mrefresh_cache\u001b[49m\u001b[38;5;241;43m=\u001b[39;49m\u001b[43mrefresh_cache\u001b[49m\u001b[43m,\u001b[49m\n\u001b[1;32m    231\u001b[0m \u001b[43m    \u001b[49m\u001b[43mlibrary_path\u001b[49m\u001b[38;5;241;43m=\u001b[39;49m\u001b[43mlibrary_path\u001b[49m\u001b[43m,\u001b[49m\n\u001b[1;32m    232\u001b[0m \u001b[43m    \u001b[49m\u001b[43mdisable_library_cache\u001b[49m\u001b[38;5;241;43m=\u001b[39;49m\u001b[43mdisable_library_cache\u001b[49m\u001b[43m,\u001b[49m\n\u001b[1;32m    233\u001b[0m \u001b[43m\u001b[49m\u001b[43m)\u001b[49m\n\u001b[1;32m    234\u001b[0m dataset_id \u001b[38;5;241m=\u001b[39m dataset_info[\u001b[38;5;124m\"\u001b[39m\u001b[38;5;124mdataset_id\u001b[39m\u001b[38;5;124m\"\u001b[39m]\n\u001b[1;32m    235\u001b[0m source_files \u001b[38;5;241m=\u001b[39m dataset_info[\u001b[38;5;124m\"\u001b[39m\u001b[38;5;124msource_files\u001b[39m\u001b[38;5;124m\"\u001b[39m]\n",
      "File \u001b[0;32m/opt/miniconda3/envs/local_RAG/lib/python3.10/site-packages/llama_index/core/download/dataset.py:80\u001b[0m, in \u001b[0;36mget_dataset_info\u001b[0;34m(local_dir_path, remote_dir_path, remote_source_dir_path, dataset_class, refresh_cache, library_path, source_files_path, disable_library_cache)\u001b[0m\n\u001b[1;32m     78\u001b[0m \u001b[38;5;66;03m# Fetch up-to-date library from remote repo if dataset_id not found\u001b[39;00m\n\u001b[1;32m     79\u001b[0m \u001b[38;5;28;01mif\u001b[39;00m dataset_id \u001b[38;5;129;01mis\u001b[39;00m \u001b[38;5;28;01mNone\u001b[39;00m:\n\u001b[0;32m---> 80\u001b[0m     library_raw_content, _ \u001b[38;5;241m=\u001b[39m \u001b[43mget_file_content\u001b[49m\u001b[43m(\u001b[49m\n\u001b[1;32m     81\u001b[0m \u001b[43m        \u001b[49m\u001b[38;5;28;43mstr\u001b[39;49m\u001b[43m(\u001b[49m\u001b[43mremote_dir_path\u001b[49m\u001b[43m)\u001b[49m\u001b[43m,\u001b[49m\u001b[43m \u001b[49m\u001b[38;5;124;43mf\u001b[39;49m\u001b[38;5;124;43m\"\u001b[39;49m\u001b[38;5;124;43m/\u001b[39;49m\u001b[38;5;132;43;01m{\u001b[39;49;00m\u001b[43mlibrary_path\u001b[49m\u001b[38;5;132;43;01m}\u001b[39;49;00m\u001b[38;5;124;43m\"\u001b[39;49m\n\u001b[1;32m     82\u001b[0m \u001b[43m    \u001b[49m\u001b[43m)\u001b[49m\n\u001b[1;32m     83\u001b[0m     library \u001b[38;5;241m=\u001b[39m json\u001b[38;5;241m.\u001b[39mloads(library_raw_content)\n\u001b[1;32m     84\u001b[0m     \u001b[38;5;28;01mif\u001b[39;00m dataset_class \u001b[38;5;129;01mnot\u001b[39;00m \u001b[38;5;129;01min\u001b[39;00m library:\n",
      "File \u001b[0;32m/opt/miniconda3/envs/local_RAG/lib/python3.10/site-packages/llama_index/core/download/utils.py:10\u001b[0m, in \u001b[0;36mget_file_content\u001b[0;34m(url, path)\u001b[0m\n\u001b[1;32m      8\u001b[0m \u001b[38;5;28;01mdef\u001b[39;00m\u001b[38;5;250m \u001b[39m\u001b[38;5;21mget_file_content\u001b[39m(url: \u001b[38;5;28mstr\u001b[39m, path: \u001b[38;5;28mstr\u001b[39m) \u001b[38;5;241m-\u001b[39m\u001b[38;5;241m>\u001b[39m Tuple[\u001b[38;5;28mstr\u001b[39m, \u001b[38;5;28mint\u001b[39m]:\n\u001b[1;32m      9\u001b[0m \u001b[38;5;250m    \u001b[39m\u001b[38;5;124;03m\"\"\"Get the content of a file from the GitHub REST API.\"\"\"\u001b[39;00m\n\u001b[0;32m---> 10\u001b[0m     resp \u001b[38;5;241m=\u001b[39m \u001b[43mrequests\u001b[49m\u001b[38;5;241;43m.\u001b[39;49m\u001b[43mget\u001b[49m\u001b[43m(\u001b[49m\u001b[43murl\u001b[49m\u001b[43m \u001b[49m\u001b[38;5;241;43m+\u001b[39;49m\u001b[43m \u001b[49m\u001b[43mpath\u001b[49m\u001b[43m)\u001b[49m\n\u001b[1;32m     11\u001b[0m     \u001b[38;5;28;01mreturn\u001b[39;00m resp\u001b[38;5;241m.\u001b[39mtext, resp\u001b[38;5;241m.\u001b[39mstatus_code\n",
      "File \u001b[0;32m/opt/miniconda3/envs/local_RAG/lib/python3.10/site-packages/requests/api.py:73\u001b[0m, in \u001b[0;36mget\u001b[0;34m(url, params, **kwargs)\u001b[0m\n\u001b[1;32m     62\u001b[0m \u001b[38;5;28;01mdef\u001b[39;00m\u001b[38;5;250m \u001b[39m\u001b[38;5;21mget\u001b[39m(url, params\u001b[38;5;241m=\u001b[39m\u001b[38;5;28;01mNone\u001b[39;00m, \u001b[38;5;241m*\u001b[39m\u001b[38;5;241m*\u001b[39mkwargs):\n\u001b[1;32m     63\u001b[0m \u001b[38;5;250m    \u001b[39m\u001b[38;5;124mr\u001b[39m\u001b[38;5;124;03m\"\"\"Sends a GET request.\u001b[39;00m\n\u001b[1;32m     64\u001b[0m \n\u001b[1;32m     65\u001b[0m \u001b[38;5;124;03m    :param url: URL for the new :class:`Request` object.\u001b[39;00m\n\u001b[0;32m   (...)\u001b[0m\n\u001b[1;32m     70\u001b[0m \u001b[38;5;124;03m    :rtype: requests.Response\u001b[39;00m\n\u001b[1;32m     71\u001b[0m \u001b[38;5;124;03m    \"\"\"\u001b[39;00m\n\u001b[0;32m---> 73\u001b[0m     \u001b[38;5;28;01mreturn\u001b[39;00m \u001b[43mrequest\u001b[49m\u001b[43m(\u001b[49m\u001b[38;5;124;43m\"\u001b[39;49m\u001b[38;5;124;43mget\u001b[39;49m\u001b[38;5;124;43m\"\u001b[39;49m\u001b[43m,\u001b[49m\u001b[43m \u001b[49m\u001b[43murl\u001b[49m\u001b[43m,\u001b[49m\u001b[43m \u001b[49m\u001b[43mparams\u001b[49m\u001b[38;5;241;43m=\u001b[39;49m\u001b[43mparams\u001b[49m\u001b[43m,\u001b[49m\u001b[43m \u001b[49m\u001b[38;5;241;43m*\u001b[39;49m\u001b[38;5;241;43m*\u001b[39;49m\u001b[43mkwargs\u001b[49m\u001b[43m)\u001b[49m\n",
      "File \u001b[0;32m/opt/miniconda3/envs/local_RAG/lib/python3.10/site-packages/requests/api.py:59\u001b[0m, in \u001b[0;36mrequest\u001b[0;34m(method, url, **kwargs)\u001b[0m\n\u001b[1;32m     55\u001b[0m \u001b[38;5;66;03m# By using the 'with' statement we are sure the session is closed, thus we\u001b[39;00m\n\u001b[1;32m     56\u001b[0m \u001b[38;5;66;03m# avoid leaving sockets open which can trigger a ResourceWarning in some\u001b[39;00m\n\u001b[1;32m     57\u001b[0m \u001b[38;5;66;03m# cases, and look like a memory leak in others.\u001b[39;00m\n\u001b[1;32m     58\u001b[0m \u001b[38;5;28;01mwith\u001b[39;00m sessions\u001b[38;5;241m.\u001b[39mSession() \u001b[38;5;28;01mas\u001b[39;00m session:\n\u001b[0;32m---> 59\u001b[0m     \u001b[38;5;28;01mreturn\u001b[39;00m \u001b[43msession\u001b[49m\u001b[38;5;241;43m.\u001b[39;49m\u001b[43mrequest\u001b[49m\u001b[43m(\u001b[49m\u001b[43mmethod\u001b[49m\u001b[38;5;241;43m=\u001b[39;49m\u001b[43mmethod\u001b[49m\u001b[43m,\u001b[49m\u001b[43m \u001b[49m\u001b[43murl\u001b[49m\u001b[38;5;241;43m=\u001b[39;49m\u001b[43murl\u001b[49m\u001b[43m,\u001b[49m\u001b[43m \u001b[49m\u001b[38;5;241;43m*\u001b[39;49m\u001b[38;5;241;43m*\u001b[39;49m\u001b[43mkwargs\u001b[49m\u001b[43m)\u001b[49m\n",
      "File \u001b[0;32m/opt/miniconda3/envs/local_RAG/lib/python3.10/site-packages/requests/sessions.py:589\u001b[0m, in \u001b[0;36mSession.request\u001b[0;34m(self, method, url, params, data, headers, cookies, files, auth, timeout, allow_redirects, proxies, hooks, stream, verify, cert, json)\u001b[0m\n\u001b[1;32m    584\u001b[0m send_kwargs \u001b[38;5;241m=\u001b[39m {\n\u001b[1;32m    585\u001b[0m     \u001b[38;5;124m\"\u001b[39m\u001b[38;5;124mtimeout\u001b[39m\u001b[38;5;124m\"\u001b[39m: timeout,\n\u001b[1;32m    586\u001b[0m     \u001b[38;5;124m\"\u001b[39m\u001b[38;5;124mallow_redirects\u001b[39m\u001b[38;5;124m\"\u001b[39m: allow_redirects,\n\u001b[1;32m    587\u001b[0m }\n\u001b[1;32m    588\u001b[0m send_kwargs\u001b[38;5;241m.\u001b[39mupdate(settings)\n\u001b[0;32m--> 589\u001b[0m resp \u001b[38;5;241m=\u001b[39m \u001b[38;5;28;43mself\u001b[39;49m\u001b[38;5;241;43m.\u001b[39;49m\u001b[43msend\u001b[49m\u001b[43m(\u001b[49m\u001b[43mprep\u001b[49m\u001b[43m,\u001b[49m\u001b[43m \u001b[49m\u001b[38;5;241;43m*\u001b[39;49m\u001b[38;5;241;43m*\u001b[39;49m\u001b[43msend_kwargs\u001b[49m\u001b[43m)\u001b[49m\n\u001b[1;32m    591\u001b[0m \u001b[38;5;28;01mreturn\u001b[39;00m resp\n",
      "File \u001b[0;32m/opt/miniconda3/envs/local_RAG/lib/python3.10/site-packages/requests/sessions.py:703\u001b[0m, in \u001b[0;36mSession.send\u001b[0;34m(self, request, **kwargs)\u001b[0m\n\u001b[1;32m    700\u001b[0m start \u001b[38;5;241m=\u001b[39m preferred_clock()\n\u001b[1;32m    702\u001b[0m \u001b[38;5;66;03m# Send the request\u001b[39;00m\n\u001b[0;32m--> 703\u001b[0m r \u001b[38;5;241m=\u001b[39m \u001b[43madapter\u001b[49m\u001b[38;5;241;43m.\u001b[39;49m\u001b[43msend\u001b[49m\u001b[43m(\u001b[49m\u001b[43mrequest\u001b[49m\u001b[43m,\u001b[49m\u001b[43m \u001b[49m\u001b[38;5;241;43m*\u001b[39;49m\u001b[38;5;241;43m*\u001b[39;49m\u001b[43mkwargs\u001b[49m\u001b[43m)\u001b[49m\n\u001b[1;32m    705\u001b[0m \u001b[38;5;66;03m# Total elapsed time of the request (approximately)\u001b[39;00m\n\u001b[1;32m    706\u001b[0m elapsed \u001b[38;5;241m=\u001b[39m preferred_clock() \u001b[38;5;241m-\u001b[39m start\n",
      "File \u001b[0;32m/opt/miniconda3/envs/local_RAG/lib/python3.10/site-packages/requests/adapters.py:682\u001b[0m, in \u001b[0;36mHTTPAdapter.send\u001b[0;34m(self, request, stream, timeout, verify, cert, proxies)\u001b[0m\n\u001b[1;32m    667\u001b[0m     resp \u001b[38;5;241m=\u001b[39m conn\u001b[38;5;241m.\u001b[39murlopen(\n\u001b[1;32m    668\u001b[0m         method\u001b[38;5;241m=\u001b[39mrequest\u001b[38;5;241m.\u001b[39mmethod,\n\u001b[1;32m    669\u001b[0m         url\u001b[38;5;241m=\u001b[39murl,\n\u001b[0;32m   (...)\u001b[0m\n\u001b[1;32m    678\u001b[0m         chunked\u001b[38;5;241m=\u001b[39mchunked,\n\u001b[1;32m    679\u001b[0m     )\n\u001b[1;32m    681\u001b[0m \u001b[38;5;28;01mexcept\u001b[39;00m (ProtocolError, \u001b[38;5;167;01mOSError\u001b[39;00m) \u001b[38;5;28;01mas\u001b[39;00m err:\n\u001b[0;32m--> 682\u001b[0m     \u001b[38;5;28;01mraise\u001b[39;00m \u001b[38;5;167;01mConnectionError\u001b[39;00m(err, request\u001b[38;5;241m=\u001b[39mrequest)\n\u001b[1;32m    684\u001b[0m \u001b[38;5;28;01mexcept\u001b[39;00m MaxRetryError \u001b[38;5;28;01mas\u001b[39;00m e:\n\u001b[1;32m    685\u001b[0m     \u001b[38;5;28;01mif\u001b[39;00m \u001b[38;5;28misinstance\u001b[39m(e\u001b[38;5;241m.\u001b[39mreason, ConnectTimeoutError):\n\u001b[1;32m    686\u001b[0m         \u001b[38;5;66;03m# TODO: Remove this in 3.0.0: see #2811\u001b[39;00m\n",
      "\u001b[0;31mConnectionError\u001b[0m: ('Connection aborted.', ConnectionResetError(54, 'Connection reset by peer'))"
     ]
    }
   ],
   "source": [
    "from llama_index.core.llama_dataset import download_llama_dataset\n",
    "from llama_index.core.llama_pack import download_llama_pack\n",
    "from llama_index.core import VectorStoreIndex\n",
    "\n",
    "# download and install dependencies for benchmark dataset\n",
    "rag_dataset, documents = download_llama_dataset(\n",
    "    \"PaulGrahamEssayDataset\", \"./data\"\n",
    ")"
   ]
  },
  {
   "cell_type": "code",
   "execution_count": null,
   "metadata": {},
   "outputs": [],
   "source": [
    "rag_dataset.to_pandas().head()"
   ]
  },
  {
   "cell_type": "code",
   "execution_count": 2,
   "metadata": {},
   "outputs": [],
   "source": [
    "from llama_index.core import VectorStoreIndex, SimpleDirectoryReader, Settings\n",
    "from llama_index.embeddings.huggingface import HuggingFaceEmbedding\n",
    "from llama_index.core.node_parser import SimpleNodeParser\n",
    "from config import DOCUMENT_PATH, EMBEDDING_MODEL_NAME, EMBEDDING_MODEL_PATH, TOP_K\n",
    "from llm_loader import load_llm\n",
    "from llama_index.core.node_parser import SentenceSplitter\n",
    "from llama_index.core.memory import ChatMemoryBuffer\n",
    "\n",
    "from llama_index.core import PromptTemplate\n",
    "from llama_index.core.chat_engine import CondenseQuestionChatEngine\n",
    "from llama_index.core.llms import ChatMessage, MessageRole\n",
    "\n",
    "import chromadb\n",
    "from llama_index.core import StorageContext, VectorStoreIndex\n",
    "from llama_index.vector_stores.chroma import ChromaVectorStore\n",
    "\n",
    "import time \n",
    "from llama_index.core.evaluation import BatchEvalRunner, RetrieverEvaluator, QueryResponseEvaluator\n",
    "import json\n",
    "\n",
    "from tqdm import tqdm\n",
    "import pandas as pd\n",
    "import numpy as np\n",
    "from typing import List, Dict\n",
    "import seaborn as sns\n",
    "import matplotlib.pyplot as plt\n",
    "from helper import check_collection_exist\n",
    "from datetime import datetime\n",
    "from sklearn.metrics.pairwise import cosine_similarity"
   ]
  },
  {
   "cell_type": "code",
   "execution_count": 3,
   "metadata": {},
   "outputs": [],
   "source": [
    "## Configurations\n",
    "DELETE_FLAG = False\n",
    "COLLECTION_NAME = \"paul_graham_essays\"\n",
    "DOCUMENT_PATH = \"./data/source_files/\""
   ]
  },
  {
   "cell_type": "code",
   "execution_count": 4,
   "metadata": {},
   "outputs": [
    {
     "name": "stderr",
     "output_type": "stream",
     "text": [
      "llama_init_from_model: n_ctx_per_seq (3904) < n_ctx_train (32768) -- the full capacity of the model will not be utilized\n",
      "ggml_metal_init: skipping kernel_get_rows_bf16                     (not supported)\n",
      "ggml_metal_init: skipping kernel_mul_mv_bf16_f32                   (not supported)\n",
      "ggml_metal_init: skipping kernel_mul_mv_bf16_f32_1row              (not supported)\n",
      "ggml_metal_init: skipping kernel_mul_mv_bf16_f32_l4                (not supported)\n",
      "ggml_metal_init: skipping kernel_mul_mv_bf16_bf16                  (not supported)\n",
      "ggml_metal_init: skipping kernel_mul_mv_id_bf16_f32                (not supported)\n",
      "ggml_metal_init: skipping kernel_mul_mm_bf16_f32                   (not supported)\n",
      "ggml_metal_init: skipping kernel_mul_mm_id_bf16_f32                (not supported)\n",
      "ggml_metal_init: skipping kernel_flash_attn_ext_bf16_h64           (not supported)\n",
      "ggml_metal_init: skipping kernel_flash_attn_ext_bf16_h80           (not supported)\n",
      "ggml_metal_init: skipping kernel_flash_attn_ext_bf16_h96           (not supported)\n",
      "ggml_metal_init: skipping kernel_flash_attn_ext_bf16_h112          (not supported)\n",
      "ggml_metal_init: skipping kernel_flash_attn_ext_bf16_h128          (not supported)\n",
      "ggml_metal_init: skipping kernel_flash_attn_ext_bf16_h256          (not supported)\n",
      "ggml_metal_init: skipping kernel_flash_attn_ext_vec_bf16_h128      (not supported)\n",
      "ggml_metal_init: skipping kernel_flash_attn_ext_vec_bf16_h256      (not supported)\n",
      "ggml_metal_init: skipping kernel_cpy_f32_bf16                      (not supported)\n",
      "ggml_metal_init: skipping kernel_cpy_bf16_f32                      (not supported)\n",
      "ggml_metal_init: skipping kernel_cpy_bf16_bf16                     (not supported)\n"
     ]
    }
   ],
   "source": [
    "llm = load_llm()\n",
    "Settings.llm = llm  # Assign model globally in LlamaIndex\n",
    "\n",
    "# Load embedding model from local storage\n",
    "# Settings.embed_model = HuggingFaceEmbedding(\n",
    "#     model_name=EMBEDDING_MODEL_NAME,\n",
    "#     cache_folder=EMBEDDING_MODEL_PATH\n",
    "# )\n",
    "\n",
    "Settings.embed_model = HuggingFaceEmbedding(\n",
    "    model_name=\"sentence-transformers/all-MiniLM-L6-v2\",\n",
    "    cache_folder=\"./embedding_cache\"\n",
    ")\n"
   ]
  },
  {
   "cell_type": "markdown",
   "metadata": {},
   "source": [
    "## Save raw document into Chroma DB"
   ]
  },
  {
   "cell_type": "code",
   "execution_count": 5,
   "metadata": {},
   "outputs": [
    {
     "name": "stdout",
     "output_type": "stream",
     "text": [
      "DELETE_FLAG is False; keeping any existing collection.\n",
      "Using existing collection 'paul_graham_essays'\n"
     ]
    }
   ],
   "source": [
    "\n",
    "## Setting up ChromaDB with Persistent Storage\n",
    "chroma_client = chromadb.PersistentClient(path=\"./chroma_db\")\n",
    "\n",
    "existing_collection = check_collection_exist(chroma_client, COLLECTION_NAME)\n",
    "\n",
    "# if DELETE_Flag is True and existing_collection is not None, delete the existing collection\n",
    "# if DELETE_Flag is False, keep the existing collection\n",
    "# if DELETE_Flag is True and existing_collection is None, do nothing\n",
    "if DELETE_FLAG:\n",
    "    if existing_collection is not None:\n",
    "        chroma_client.delete_collection(COLLECTION_NAME)\n",
    "        print(f\"Deleted existing collection '{COLLECTION_NAME}'\")\n",
    "    else:\n",
    "        print(\"No existing collection to delete.\")\n",
    "else:\n",
    "    print(\"DELETE_FLAG is False; keeping any existing collection.\")\n",
    "\n",
    "# if existing_collection is None, create a new collection\n",
    "\n",
    "try:\n",
    "    chroma_collection = chroma_client.get_collection(\"paul_graham_essays\")\n",
    "except Exception:\n",
    "    chroma_collection = None\n",
    "\n",
    "if chroma_collection is None:\n",
    "    chroma_collection = chroma_client.create_collection(COLLECTION_NAME)\n",
    "    print(f\"Created new collection '{COLLECTION_NAME}'\")\n",
    "    \n",
    "    documents = SimpleDirectoryReader(DOCUMENT_PATH).load_data()\n",
    "    splitter = SentenceSplitter(\n",
    "    chunk_size=512,\n",
    "    chunk_overlap=128,\n",
    "    )\n",
    "    nodes = splitter.get_nodes_from_documents(documents)\n",
    "\n",
    "    for i, node in enumerate(nodes):\n",
    "        text = node.get_text()\n",
    "        embedding = Settings.embed_model.get_text_embedding(text)\n",
    "        \n",
    "        chroma_collection.add(ids=[f\"doc_{i}\"], documents=[text], embeddings=[embedding])\n",
    "    print(f\"Stored {len(nodes)} document chunks in new collection '{COLLECTION_NAME}'\")\n",
    "else:\n",
    "    print(f\"Using existing collection '{COLLECTION_NAME}'\")\n",
    "\n",
    "# Set up the vector store using the collection.\n",
    "vector_store = ChromaVectorStore(chroma_collection=chroma_collection)"
   ]
  },
  {
   "cell_type": "markdown",
   "metadata": {},
   "source": [
    "## Load Llamaindex Reference Dataset"
   ]
  },
  {
   "cell_type": "code",
   "execution_count": 6,
   "metadata": {},
   "outputs": [],
   "source": [
    "### to Load the Earlier Llamaindex reference dataset\n",
    "### Rag_dataset contains the queries and the corresponding answers\n",
    "\n",
    "# Load the JSON data from the file\n",
    "with open(\"./data/rag_dataset.json\", \"r\") as f:\n",
    "    dataset_data = json.load(f)\n",
    "\n",
    "# Create a helper class that gives attribute access to the queries\n",
    "class RagDataset:\n",
    "    def __init__(self, data):\n",
    "        self.data = data\n",
    "        self.examples = self.data.get(\"examples\", [])\n",
    "    \n",
    "    @property\n",
    "    def queries(self):\n",
    "        \"\"\"Get list of all queries\"\"\"\n",
    "        return [example.get(\"query\", \"\") for example in self.examples]\n",
    "    \n",
    "    @property\n",
    "    def reference_contexts(self):\n",
    "        \"\"\"Get list of reference contexts for each example\"\"\"\n",
    "        return [example.get(\"reference_contexts\", []) for example in self.examples]\n",
    "    \n",
    "    @property\n",
    "    def reference_answers(self):\n",
    "        \"\"\"Get list of reference answers for each example\"\"\"\n",
    "        return [example.get(\"reference_answer\", \"\") for example in self.examples]\n",
    "    \n",
    "    def get_example(self, idx):\n",
    "        \"\"\"Get complete example at specified index\n",
    "        \n",
    "        Args:\n",
    "            idx (int): Index of example to retrieve\n",
    "            \n",
    "        Returns:\n",
    "            dict: Example dictionary containing query, contexts and answer\n",
    "        \"\"\"\n",
    "        if idx >= len(self.examples):\n",
    "            raise IndexError(f\"Index {idx} out of range for dataset with {len(self.examples)} examples\")\n",
    "        return self.examples[idx]\n",
    "\n",
    "\n"
   ]
  },
  {
   "cell_type": "code",
   "execution_count": 8,
   "metadata": {},
   "outputs": [
    {
     "ename": "NameError",
     "evalue": "name 'rag_dataset' is not defined",
     "output_type": "error",
     "traceback": [
      "\u001b[0;31m---------------------------------------------------------------------------\u001b[0m",
      "\u001b[0;31mNameError\u001b[0m                                 Traceback (most recent call last)",
      "Cell \u001b[0;32mIn[8], line 3\u001b[0m\n\u001b[1;32m      1\u001b[0m \u001b[38;5;66;03m# rag_dataset.queries[:10]\u001b[39;00m\n\u001b[1;32m      2\u001b[0m \u001b[38;5;66;03m# rag_dataset.reference_contexts[:10]\u001b[39;00m\n\u001b[0;32m----> 3\u001b[0m \u001b[43mrag_dataset\u001b[49m\u001b[38;5;241m.\u001b[39mget_example(\u001b[38;5;241m0\u001b[39m)\n",
      "\u001b[0;31mNameError\u001b[0m: name 'rag_dataset' is not defined"
     ]
    }
   ],
   "source": [
    "# rag_dataset.queries[:10]\n",
    "# rag_dataset.reference_contexts[:10]\n",
    "rag_dataset.get_example(0)"
   ]
  },
  {
   "cell_type": "markdown",
   "metadata": {},
   "source": [
    "## Read / Load from Vector Store"
   ]
  },
  {
   "cell_type": "code",
   "execution_count": 7,
   "metadata": {},
   "outputs": [],
   "source": [
    "storage_context = StorageContext.from_defaults(vector_store=vector_store)\n",
    "\n",
    "index = VectorStoreIndex.from_vector_store(\n",
    "    vector_store=vector_store,\n",
    "    storage_context=storage_context\n",
    ")"
   ]
  },
  {
   "cell_type": "code",
   "execution_count": 8,
   "metadata": {},
   "outputs": [
    {
     "name": "stdout",
     "output_type": "stream",
     "text": [
      "✅ Query engine initialized successfully!\n"
     ]
    }
   ],
   "source": [
    "\n",
    "custom_prompt = PromptTemplate(\n",
    "    \"\"\"\\\n",
    "Rewrite the user's follow-up question as a standalone question.\n",
    "\n",
    "1. Include all relevant past context.\n",
    "2. Keep it natural and grammatically correct.\n",
    "3. If already standalone, return it unchanged.\n",
    "\n",
    "<Chat History>\n",
    "{chat_history}\n",
    "\n",
    "<User's Follow-Up Question>\n",
    "{question}\n",
    "\n",
    "<Rewritten Standalone Question>\n",
    "\"\"\"\n",
    ")\n",
    "\n",
    "\n",
    "response_prompt = PromptTemplate(\n",
    "    \"\"\"\\\n",
    "You are an AI assistant providing structured responses.\n",
    "\n",
    "### **Instructions:**\n",
    "- Answer clearly and concisely.\n",
    "- Summarize retrieved context to avoid duplication.\n",
    "- Summarize the key facts efficiently.\n",
    "- If the context lacks enough details, say: \"I don’t have enough information.\"\n",
    "- Format responses in natural sentences.\n",
    "\n",
    "<Retrieved Context>\n",
    "{context}\n",
    "\n",
    "<User's Query>\n",
    "{question}\n",
    "\n",
    "### **AI Response:**\n",
    "\"\"\"\n",
    ")\n",
    "\n",
    "\n",
    "query_engine = index.as_query_engine(\n",
    "    response_mode=\"compact\",\n",
    "    response_prompt=response_prompt,\n",
    "    similarity_top_k=3,\n",
    "    max_tokens = 300,\n",
    "    streaming=False\n",
    ")\n",
    "\n",
    "print(\"✅ Query engine initialized successfully!\")\n"
   ]
  },
  {
   "cell_type": "code",
   "execution_count": 14,
   "metadata": {},
   "outputs": [],
   "source": [
    "import numpy as np\n",
    "import json\n",
    "from datetime import datetime\n",
    "from typing import List, Dict\n",
    "from tqdm import tqdm\n",
    "\n",
    "class EvaluationMetrics:\n",
    "    def __init__(self, rag_dataset):\n",
    "        \"\"\"Initialize with RAG dataset and metrics storage\"\"\"\n",
    "        self.rag_dataset = rag_dataset\n",
    "        self.results = []\n",
    "        self.retrieval_times: List[float] = []\n",
    "        self.retrieval_accuracies: List[float] = []\n",
    "        self.semantic_scores: List[float] = []\n",
    "        self.mrr_scores: List[float] = []\n",
    "        self.ndcg_scores: List[float] = []\n",
    "        self.precision_at_k: Dict[int, List[float]] = {1: [], 3: [], 5: []}\n",
    "        self.map_scores: List[float] = []\n",
    "        # use global embedding model\n",
    "        self.embedding_model = Settings.embed_model\n",
    "\n",
    "    def evaluate_retrieval_accuracy(self, retrieved_contexts: List[str], query_idx: int)-> Dict:\n",
    "        \"\"\"\n",
    "        Evaluate accuracy of retrieved contexts against reference contexts\n",
    "        \n",
    "        Args:\n",
    "            retrieved_contexts: List of retrieved text chunks\n",
    "            query_idx: Index of query in dataset\n",
    "            \n",
    "        Returns:\n",
    "            Dictionary containing accuracy metrics\n",
    "        \"\"\"\n",
    "        reference_contexts = self.rag_dataset.reference_contexts[query_idx]\n",
    "\n",
    "        retrieved_texts = [node.node.text for node in retrieved_contexts]\n",
    "        \n",
    "        # Convert contexts to sets of sentences for comparison\n",
    "        retrieved_set = set(' '.join(retrieved_texts).split('.'))\n",
    "        reference_set = set(' '.join(reference_contexts).split('.'))\n",
    "        \n",
    "        # Calculate metrics\n",
    "        correct_retrievals = len(retrieved_set.intersection(reference_set))\n",
    "        precision = correct_retrievals / len(retrieved_set) if retrieved_set else 0\n",
    "        recall = correct_retrievals / len(reference_set) if reference_set else 0\n",
    "        f1 = 2 * (precision * recall) / (precision + recall) if (precision + recall) > 0 else 0\n",
    "\n",
    "        mrr = self._calculate_mrr(retrieved_texts, reference_contexts)\n",
    "        ndcg = self._calculate_ndcg(retrieved_texts, reference_contexts)\n",
    "        map_score = self._calculate_map(retrieved_texts, reference_contexts)\n",
    "        # Calculate P@k for different k values\n",
    "        precision_k = {}\n",
    "        for k in self.precision_at_k.keys():\n",
    "            p_at_k = self._calculate_precision_at_k(retrieved_texts, reference_contexts, k)\n",
    "            self.precision_at_k[k].append(p_at_k)\n",
    "            precision_k[f\"p@{k}\"] = p_at_k\n",
    "        \n",
    "        # Store scores\n",
    "        self.mrr_scores.append(mrr)\n",
    "        self.ndcg_scores.append(ndcg)\n",
    "        self.map_scores.append(map_score)\n",
    "        \n",
    "        return {\n",
    "            **precision_k,\n",
    "            \"mrr\": mrr,\n",
    "            \"ndcg\": ndcg,\n",
    "            \"map\": map_score,\n",
    "            \"accuracy\": f1,  # Using F1 score as accuracy metric\n",
    "            \"precision\": precision,\n",
    "            \"recall\": recall,\n",
    "            \"correct_retrievals\": correct_retrievals,\n",
    "            \"total_retrieved\": len(retrieved_set),\n",
    "            \"total_reference\": len(reference_set)\n",
    "        }\n",
    "    \n",
    "    def _calculate_mrr(self, retrieved, reference) -> float:\n",
    "        \"\"\"Calculate Mean Reciprocal Rank\"\"\"\n",
    "        for i, doc in enumerate(retrieved, 1):\n",
    "            if doc in reference:\n",
    "                return 1.0 / i\n",
    "        return 0.0\n",
    "    \n",
    "    def _calculate_ndcg(self, retrieved, reference, k=None) -> float:\n",
    "        \"\"\"Calculate NDCG\"\"\"\n",
    "        if k is None:\n",
    "            k = len(retrieved)\n",
    "        \n",
    "        relevance = [1 if doc in reference else 0 for doc in retrieved[:k]]\n",
    "        ideal = sorted(relevance, reverse=True)\n",
    "        \n",
    "        dcg = sum(rel / np.log2(i + 2) for i, rel in enumerate(relevance))\n",
    "        idcg = sum(rel / np.log2(i + 2) for i, rel in enumerate(ideal))\n",
    "        \n",
    "        return dcg / idcg if idcg > 0 else 0.0\n",
    "\n",
    "    def _calculate_precision_at_k(self, retrieved, reference, k: int) -> float:\n",
    "        \"\"\"Calculate Precision@K\"\"\"\n",
    "        retrieved_k = retrieved[:k]\n",
    "        relevant_k = sum(1 for doc in retrieved_k if doc in reference)\n",
    "        return relevant_k / k if k > 0 else 0.0\n",
    "\n",
    "    def _calculate_map(self, retrieved, reference) -> float:\n",
    "        \"\"\"Calculate Mean Average Precision\"\"\"\n",
    "        if not reference:\n",
    "            return 0.0\n",
    "        \n",
    "        precisions = []\n",
    "        relevant_found = 0\n",
    "        \n",
    "        for i, doc in enumerate(retrieved, 1):\n",
    "            if doc in reference:\n",
    "                relevant_found += 1\n",
    "                precision_at_i = relevant_found / i\n",
    "                precisions.append(precision_at_i)\n",
    "        \n",
    "        return sum(precisions) / len(reference) if precisions else 0.0\n",
    "        \n",
    "    def evaluate_semantic_quality(self, generated_answer: str, query_idx: int) -> Dict:\n",
    "        \"\"\"\n",
    "        Evaluate semantic similarity between generated and reference answers\n",
    "        \n",
    "        Args:\n",
    "            generated_answer: Generated answer to evaluate\n",
    "            query_idx: Index of query in dataset\n",
    "            \n",
    "        Returns:\n",
    "            Dictionary containing semantic quality metrics\n",
    "        \"\"\"\n",
    "        reference_answer = self.rag_dataset.reference_answers[query_idx]\n",
    "        \n",
    "        # Get embeddings using LlamaIndex's embedding model\n",
    "        gen_embedding = self.embedding_model.get_text_embedding(generated_answer)\n",
    "        ref_embedding = self.embedding_model.get_text_embedding(reference_answer)\n",
    "        \n",
    "        # Calculate cosine similarity\n",
    "        similarity = cosine_similarity(\n",
    "            np.array(gen_embedding).reshape(1, -1),\n",
    "            np.array(ref_embedding).reshape(1, -1)\n",
    "        )[0][0]\n",
    "        \n",
    "        return {\n",
    "            \"semantic_similarity\": similarity,\n",
    "            \"generated_length\": len(generated_answer.split()),\n",
    "            \"reference_length\": len(reference_answer.split())\n",
    "        }\n",
    "    \n",
    "    def evaluate_all_queries(self, query_engine, llm=None):\n",
    "        \"\"\"\n",
    "        Evaluate all queries in the dataset\n",
    "        \n",
    "        Args:\n",
    "            query_engine: RAG query engine for retrieving contexts\n",
    "            llm: Language model for generating answers (optional)\n",
    "        \"\"\"\n",
    "        print(f\"Evaluating {len(self.rag_dataset.queries)} queries...\")\n",
    "        \n",
    "        for idx, query in enumerate(tqdm(self.rag_dataset.queries)):\n",
    "            # Measure retrieval time and get contexts\n",
    "            start_time = time.time()\n",
    "            retrieved_contexts = query_engine.retrieve(query)\n",
    "            retrieval_time = time.time() - start_time\n",
    "            self.retrieval_times.append(retrieval_time)\n",
    "            \n",
    "            # Generate answer if LLM provided\n",
    "            generated_answer = \"\"\n",
    "            if llm:\n",
    "                generated_answer = self._generate_answer(llm, query, retrieved_contexts)\n",
    "            \n",
    "            # Evaluate retrieval accuracy\n",
    "            retrieval_metrics = self.evaluate_retrieval_accuracy(\n",
    "                retrieved_contexts,\n",
    "                idx\n",
    "            )\n",
    "            self.retrieval_accuracies.append(retrieval_metrics['accuracy'])\n",
    "            \n",
    "            # Evaluate semantic quality if answer generated\n",
    "            semantic_score = 0.0\n",
    "            if generated_answer:\n",
    "                semantic_metrics = self.evaluate_semantic_quality(\n",
    "                    generated_answer,\n",
    "                    idx\n",
    "                )\n",
    "                semantic_score = semantic_metrics['semantic_similarity']\n",
    "                self.semantic_scores.append(semantic_score)\n",
    "            \n",
    "            # Store complete results\n",
    "            result = {\n",
    "                \"query_idx\": idx,\n",
    "                \"query\": query,\n",
    "                \"retrieval_time\": retrieval_time,\n",
    "                \"retrieval_metrics\": retrieval_metrics,\n",
    "                \"generated_answer\": generated_answer,\n",
    "                \"semantic_score\": semantic_score,\n",
    "                \"timestamp\": datetime.now().isoformat()\n",
    "            }\n",
    "            self.results.append(result)\n",
    "            \n",
    "    def get_summary_metrics(self):\n",
    "        \"\"\"Get summary of all evaluation metrics\"\"\"\n",
    "        summary = {\n",
    "            \"total_queries\": len(self.results),\n",
    "            \"avg_retrieval_time\": np.mean(self.retrieval_times),\n",
    "            \"avg_retrieval_accuracy\": np.mean(self.retrieval_accuracies),\n",
    "            \"avg_semantic_score\": np.mean(self.semantic_scores) if self.semantic_scores else 0.0,\n",
    "            \"avg_mrr\": np.mean(self.mrr_scores),\n",
    "            \"avg_ndcg\": np.mean(self.ndcg_scores),\n",
    "            \"avg_map\": np.mean(self.map_scores),\n",
    "            \"timestamp\": datetime.now().isoformat()\n",
    "        }\n",
    "        \n",
    "        # Add average P@k scores\n",
    "        for k in self.precision_at_k.keys():\n",
    "            summary[f\"avg_p@{k}\"] = np.mean(self.precision_at_k[k])\n",
    "        \n",
    "        return summary\n",
    "    \n",
    "    def plot_results(self):\n",
    "        \"\"\"Enhanced visualization with ranking metrics\"\"\"\n",
    "        plt.style.use('seaborn')\n",
    "        fig = plt.figure(figsize=(20, 10))\n",
    "        \n",
    "        # Create grid for subplots\n",
    "        gs = fig.add_gridspec(2, 3)\n",
    "        \n",
    "        # Plot 1: Retrieval Times\n",
    "        ax1 = fig.add_subplot(gs[0, 0])\n",
    "        sns.histplot(self.retrieval_times, kde=True, ax=ax1)\n",
    "        ax1.set_title('Retrieval Time Distribution')\n",
    "        ax1.set_xlabel('Time (seconds)')\n",
    "        \n",
    "        # Plot 2: Accuracy Metrics\n",
    "        ax2 = fig.add_subplot(gs[0, 1])\n",
    "        accuracy_data = pd.DataFrame({\n",
    "            'F1': self.retrieval_accuracies,\n",
    "            'MRR': self.mrr_scores,\n",
    "            'NDCG': self.ndcg_scores,\n",
    "            'MAP': self.map_scores\n",
    "        })\n",
    "        sns.boxplot(data=accuracy_data, ax=ax2)\n",
    "        ax2.set_title('Ranking Metrics Distribution')\n",
    "        ax2.set_ylabel('Score')\n",
    "        \n",
    "        # Plot 3: P@K Values\n",
    "        ax3 = fig.add_subplot(gs[0, 2])\n",
    "        p_at_k_data = pd.DataFrame({f'P@{k}': scores \n",
    "                                   for k, scores in self.precision_at_k.items()})\n",
    "        sns.boxplot(data=p_at_k_data, ax=ax3)\n",
    "        ax3.set_title('Precision@K Distribution')\n",
    "        ax3.set_ylabel('Score')\n",
    "\n",
    "                # Plot 4: Semantic Scores\n",
    "        ax4 = fig.add_subplot(gs[1, 0])\n",
    "        if self.semantic_scores:\n",
    "            sns.histplot(self.semantic_scores, kde=True, ax=ax4)\n",
    "            ax4.set_title('Semantic Score Distribution')\n",
    "            ax4.set_xlabel('Semantic Score')\n",
    "        \n",
    "        # Plot 5: Metrics Correlation\n",
    "        ax5 = fig.add_subplot(gs[1, 1:])\n",
    "        metrics = np.column_stack([\n",
    "            self.retrieval_accuracies,\n",
    "            self.mrr_scores,\n",
    "            self.ndcg_scores,\n",
    "            self.map_scores\n",
    "        ])\n",
    "        sns.heatmap(\n",
    "            np.corrcoef(metrics.T),\n",
    "            annot=True,\n",
    "            xticklabels=['F1', 'MRR', 'NDCG', 'MAP'],\n",
    "            yticklabels=['F1', 'MRR', 'NDCG', 'MAP'],\n",
    "            ax=ax5\n",
    "        )\n",
    "        ax5.set_title('Metrics Correlation')\n",
    "        \n",
    "        plt.tight_layout()\n",
    "        plt.show()\n",
    "    \n",
    "    def save_results(self, filepath):\n",
    "        \"\"\"Save all results to JSON file\"\"\"\n",
    "        output = {\n",
    "            \"summary_metrics\": self.get_summary_metrics(),\n",
    "            \"detailed_results\": self.results\n",
    "        }\n",
    "        with open(filepath, 'w') as f:\n",
    "            json.dump(output, f, indent=2)\n",
    "\n",
    "    def _generate_answer(self, llm, query, contexts):\n",
    "        \"\"\"Helper to generate answer using Query Engine\"\"\"\n",
    "        try:\n",
    "            # Use the query engine directly since it already has the prompt setup\n",
    "            response = query_engine.query(query)\n",
    "            return str(response)\n",
    "        except Exception as e:\n",
    "            print(f\"Error generating answer: {e}\")\n",
    "            return \"\""
   ]
  },
  {
   "cell_type": "code",
   "execution_count": 19,
   "metadata": {},
   "outputs": [],
   "source": [
    "# Wrap your loaded data in the helper class\n",
    "rag_dataset = RagDataset(dataset_data)\n",
    "evaluator = EvaluationMetrics(rag_dataset)"
   ]
  },
  {
   "cell_type": "code",
   "execution_count": 20,
   "metadata": {},
   "outputs": [
    {
     "name": "stdout",
     "output_type": "stream",
     "text": [
      "Evaluating 44 queries...\n"
     ]
    },
    {
     "name": "stderr",
     "output_type": "stream",
     "text": [
      "100%|██████████| 44/44 [16:18<00:00, 22.23s/it]\n"
     ]
    }
   ],
   "source": [
    "evaluator.evaluate_all_queries(query_engine, llm=llm)"
   ]
  },
  {
   "cell_type": "code",
   "execution_count": 27,
   "metadata": {},
   "outputs": [
    {
     "name": "stdout",
     "output_type": "stream",
     "text": [
      "['__abstractmethods__', '__annotations__', '__class__', '__class_getitem__', '__class_vars__', '__copy__', '__deepcopy__', '__delattr__', '__dict__', '__dir__', '__doc__', '__eq__', '__fields__', '__fields_set__', '__format__', '__ge__', '__get_pydantic_core_schema__', '__get_pydantic_json_schema__', '__getattr__', '__getattribute__', '__getstate__', '__gt__', '__hash__', '__init__', '__init_subclass__', '__iter__', '__le__', '__lt__', '__module__', '__ne__', '__new__', '__pretty__', '__private_attributes__', '__pydantic_complete__', '__pydantic_computed_fields__', '__pydantic_core_schema__', '__pydantic_custom_init__', '__pydantic_decorators__', '__pydantic_extra__', '__pydantic_fields__', '__pydantic_fields_set__', '__pydantic_generic_metadata__', '__pydantic_init_subclass__', '__pydantic_parent_namespace__', '__pydantic_post_init__', '__pydantic_private__', '__pydantic_root_model__', '__pydantic_serializer__', '__pydantic_validator__', '__reduce__', '__reduce_ex__', '__replace__', '__repr__', '__repr_args__', '__repr_name__', '__repr_recursion__', '__repr_str__', '__rich_repr__', '__setattr__', '__setstate__', '__signature__', '__sizeof__', '__slots__', '__str__', '__subclasshook__', '__weakref__', '_abc_impl', '_as_query_component', '_calculate_keys', '_check_frozen', '_copy_and_set_values', '_download_url', '_extend_messages', '_extend_prompt', '_get_messages', '_get_model_path_for_version', '_get_prompt', '_get_value', '_iter', '_log_template_data', '_parse_output', 'achat', 'acomplete', 'apredict', 'apredict_and_call', 'as_query_component', 'as_structured_llm', 'astream', 'astream_chat', 'astream_complete', 'astream_structured_predict', 'astructured_predict', 'callback_manager', 'chat', 'check_callback_manager', 'check_prompts', 'class_name', 'complete', 'completion_to_prompt', 'construct', 'context_window', 'convert_chat_messages', 'copy', 'custom_model_dump', 'dict', 'from_dict', 'from_json', 'from_orm', 'generate_kwargs', 'json', 'max_new_tokens', 'messages_to_prompt', 'metadata', 'model_computed_fields', 'model_config', 'model_construct', 'model_copy', 'model_dump', 'model_dump_json', 'model_extra', 'model_fields', 'model_fields_set', 'model_json_schema', 'model_kwargs', 'model_parametrized_name', 'model_path', 'model_post_init', 'model_rebuild', 'model_url', 'model_validate', 'model_validate_json', 'model_validate_strings', 'output_parser', 'parse_file', 'parse_obj', 'parse_raw', 'predict', 'predict_and_call', 'pydantic_program_mode', 'query_wrapper_prompt', 'schema', 'schema_json', 'set_completion_to_prompt', 'set_messages_to_prompt', 'stream', 'stream_chat', 'stream_complete', 'stream_structured_predict', 'structured_predict', 'system_prompt', 'temperature', 'to_dict', 'to_json', 'update_forward_refs', 'validate', 'verbose']\n"
     ]
    }
   ],
   "source": [
    "print(dir(llm))"
   ]
  },
  {
   "cell_type": "code",
   "execution_count": 21,
   "metadata": {},
   "outputs": [],
   "source": [
    "summary = evaluator.get_summary_metrics()"
   ]
  },
  {
   "cell_type": "code",
   "execution_count": 22,
   "metadata": {},
   "outputs": [
    {
     "data": {
      "text/plain": [
       "{'total_queries': 44,\n",
       " 'avg_retrieval_time': np.float64(0.04045032371174206),\n",
       " 'avg_retrieval_accuracy': np.float64(0.3516807030605009),\n",
       " 'avg_semantic_score': np.float64(0.7826449762406963),\n",
       " 'timestamp': '2025-03-17T17:51:16.452626'}"
      ]
     },
     "execution_count": 22,
     "metadata": {},
     "output_type": "execute_result"
    }
   ],
   "source": [
    "summary"
   ]
  },
  {
   "cell_type": "code",
   "execution_count": 23,
   "metadata": {},
   "outputs": [
    {
     "data": {
      "image/png": "[encoded data removed]",
      "text/plain": [
       "<Figure size 1200x400 with 3 Axes>"
      ]
     },
     "metadata": {},
     "output_type": "display_data"
    }
   ],
   "source": [
    "evaluator.plot_results()"
   ]
  },
  {
   "cell_type": "markdown",
   "metadata": {},
   "source": [
    "## Using Actual Dataset to generate Evaluation Set"
   ]
  },
  {
   "cell_type": "code",
   "execution_count": 24,
   "metadata": {},
   "outputs": [],
   "source": [
    "# Import necessary libraries\n",
    "import os\n",
    "from pathlib import Path\n",
    "from typing import List, Dict\n",
    "import json\n",
    "from tqdm import tqdm\n",
    "\n",
    "from llama_index.core import (\n",
    "    SimpleDirectoryReader,\n",
    "    VectorStoreIndex,\n",
    "    Settings,\n",
    "    PromptTemplate\n",
    ")\n",
    "from llama_index.core.node_parser import SentenceSplitter\n",
    "from llama_index.readers.file import PDFReader, DocxReader\n",
    "from llama_index.readers.file.tabular import PandasExcelReader\n",
    "from llama_index.core.evaluation import generate_question_context_pairs\n",
    "\n",
    "# Import your existing LLM loader\n",
    "# from llm_loader import load_llm\n",
    "from llama_index.llms.openai import OpenAI\n",
    "import os\n",
    "from dotenv import load_dotenv"
   ]
  },
  {
   "cell_type": "code",
   "execution_count": 31,
   "metadata": {},
   "outputs": [
    {
     "name": "stderr",
     "output_type": "stream",
     "text": [
      "llama_init_from_model: n_ctx_per_seq (3904) < n_ctx_train (32768) -- the full capacity of the model will not be utilized\n",
      "ggml_metal_init: skipping kernel_get_rows_bf16                     (not supported)\n",
      "ggml_metal_init: skipping kernel_mul_mv_bf16_f32                   (not supported)\n",
      "ggml_metal_init: skipping kernel_mul_mv_bf16_f32_1row              (not supported)\n",
      "ggml_metal_init: skipping kernel_mul_mv_bf16_f32_l4                (not supported)\n",
      "ggml_metal_init: skipping kernel_mul_mv_bf16_bf16                  (not supported)\n",
      "ggml_metal_init: skipping kernel_mul_mv_id_bf16_f32                (not supported)\n",
      "ggml_metal_init: skipping kernel_mul_mm_bf16_f32                   (not supported)\n",
      "ggml_metal_init: skipping kernel_mul_mm_id_bf16_f32                (not supported)\n",
      "ggml_metal_init: skipping kernel_flash_attn_ext_bf16_h64           (not supported)\n",
      "ggml_metal_init: skipping kernel_flash_attn_ext_bf16_h80           (not supported)\n",
      "ggml_metal_init: skipping kernel_flash_attn_ext_bf16_h96           (not supported)\n",
      "ggml_metal_init: skipping kernel_flash_attn_ext_bf16_h112          (not supported)\n",
      "ggml_metal_init: skipping kernel_flash_attn_ext_bf16_h128          (not supported)\n",
      "ggml_metal_init: skipping kernel_flash_attn_ext_bf16_h256          (not supported)\n",
      "ggml_metal_init: skipping kernel_flash_attn_ext_vec_bf16_h128      (not supported)\n",
      "ggml_metal_init: skipping kernel_flash_attn_ext_vec_bf16_h256      (not supported)\n",
      "ggml_metal_init: skipping kernel_cpy_f32_bf16                      (not supported)\n",
      "ggml_metal_init: skipping kernel_cpy_bf16_f32                      (not supported)\n",
      "ggml_metal_init: skipping kernel_cpy_bf16_bf16                     (not supported)\n"
     ]
    }
   ],
   "source": [
    "# Initialize LLM\n",
    "llm = load_llm()\n",
    "Settings.llm = llm\n",
    "\n",
    "# Load OpenAI API key from .env file\n",
    "# load_dotenv()\n",
    "\n",
    "# # Initialize GPT-4 for question generation\n",
    "# gpt4_llm = OpenAI(\n",
    "#     model=\"gpt-4\",  # or \"gpt-4\" for base model\n",
    "#     api_key=os.getenv(\"OPENAI_API_KEY\"),\n",
    "#     temperature=0.2\n",
    "# )"
   ]
  },
  {
   "cell_type": "code",
   "execution_count": 32,
   "metadata": {},
   "outputs": [],
   "source": [
    "def load_documents(directory: str = \"./Document\"):\n",
    "    \"\"\"Load documents using LlamaIndex readers\"\"\"\n",
    "    \n",
    "    # Configure readers for different file types\n",
    "    file_readers = {\n",
    "        \".pdf\": PDFReader(),\n",
    "        \".docx\": DocxReader(),\n",
    "        \".xlsx\": PandasExcelReader()\n",
    "    }\n",
    "    \n",
    "    # Initialize SimpleDirectoryReader with custom configuration\n",
    "    reader = SimpleDirectoryReader(\n",
    "        input_dir=directory,\n",
    "        file_extractor=file_readers,\n",
    "        filename_as_id=True\n",
    "    )\n",
    "    \n",
    "    # Load all documents\n",
    "    documents = reader.load_data()\n",
    "    print(f\"Loaded {len(documents)} documents\")\n",
    "    return documents"
   ]
  },
  {
   "cell_type": "code",
   "execution_count": 33,
   "metadata": {},
   "outputs": [
    {
     "name": "stdout",
     "output_type": "stream",
     "text": [
      "Loaded 4 documents\n"
     ]
    }
   ],
   "source": [
    "documents = load_documents()"
   ]
  },
  {
   "cell_type": "code",
   "execution_count": 34,
   "metadata": {},
   "outputs": [
    {
     "data": {
      "text/plain": [
       "[Document(id_='/Users/danielmak/Documents/local_RAG/Document/AIBots - FAQs.docx_part_0', embedding=None, metadata={'file_name': 'AIBots - FAQs.docx', 'file_path': '/Users/danielmak/Documents/local_RAG/Document/AIBots - FAQs.docx', 'file_type': 'application/vnd.openxmlformats-officedocument.wordprocessingml.document', 'file_size': 35687, 'creation_date': '2025-03-06', 'last_modified_date': '2025-03-06'}, excluded_embed_metadata_keys=['file_name', 'file_type', 'file_size', 'creation_date', 'last_modified_date', 'last_accessed_date'], excluded_llm_metadata_keys=['file_name', 'file_type', 'file_size', 'creation_date', 'last_modified_date', 'last_accessed_date'], relationships={}, metadata_template='{key}: {value}', metadata_separator='\\n', text_resource=MediaResource(embeddings=None, data=None, text=\"What are the Data Lab's operating hours?\\n\\nThe MOM Data Lab is open from Tuesdays to Thursdays, 9.30 AM to 5.30 PM and is closed from 12 to 2 PM. The lab may also be closed on days when no admins are available (e.g. Division events/meetings).\\xa0\\n\\n\\xa0\\n\\nPlease note that you are\\xa0not allowed\\xa0to be in the lab if there are no lab administrators present. Lab closures will be announced through this website and you will not be able to book any terminals. If the lab needs to close after bookings were accepted, users will be notified accordingly.\\n\\n\\n\\nWhere is the Data Lab located?\\n\\nWe are located at MOM HQ, 18 Havelock Road, Level 2, right beside the Tech Bar. You may also approach the security counter for directions.\\n\\n\\n\\nHow can I apply to access the Data Lab?\\n\\nFor non-MOM users\\nTo visit the lab, you must first apply for Data Lab Access using the following link (Lab Access)\\xa0and attach your Director's approval in .msg format. Please note that you have to be Cat 2 cleared to access the Data Lab.\\n\\n\\xa0\\n\\nFor MOM users\\n\\nPlease email\\xa0MOM-MPPD-Data@mom.gov.sg\\xa0for further instructions.\\n\\n\\n\\nMy lab access has expired. Can I still access the lab?\\n\\nIf your lab access has expired, you will need to re-submit a Data Lab Access Request, along with your Director's Approval. You will also be issued a new Data Lab secondary LAN ID.\\xa0\\n\\nPlease submit your form here:\\xa0Data Lab Access Request Form | FormSG\\n\\n\\n\\nHow can I book a Data Lab session?\\n\\nTo book an available timeslot, please use this link:\\xa0Data Lab Booking Request Form | FormSG\\xa0\\n\\n\\xa0\\n\\nDo note that you will need to have valid lab access before booking a timeslot. Timeslots are allocated on a first-come, first-served basis.\\n\\n\\xa0\\n\\nPlease ensure all required documents (including for accompanying officers) are submitted. We aim to process your booking request within 7 working days. Please note that incomplete submission requests may results in delays in processing.\\xa0\\n\\n\\xa0\\n\\nThank you for your patience and understanding.\\n\\n\\n\\nI have not received a confirmation for my lab booking, can I still head down?\\n\\nIf you did not receive any confirmation, please email us first. There may be cases where there are multiple requests for the same slots and it may not be assigned to you. Hence, please\\xa0do not\\xa0head down to the lab unless you have received a confirmation of your booking.\\xa0\\n\\n\\n\\nCan my colleague share a terminal with me?\\n\\nYes. However, please ensure that your colleague(s) has a valid lab access and indicate in the booking form. Please note that the max number of accompanying officers are 2.\\n\\n\\xa0\\n\\nPlease note that if you have forgotten to attach your accompanying Lab Access you will need to email us at\\xa0MOM-MPPD-Data@mom.gov.sg\\xa0before we can process their clearance.\\n\\n\\n\\nI am unable to attend the lab session I booked. What should I do?\\n\\nIf you are unable to make it for your session, you may wish to inform us at\\xa0MOM-MPPD-Data@mom.gov.sg\\xa0so that we can free up your slot.\\n\\n\\n\\nCan I bring my own data into the Data Lab for analysis?\\n\\nYes, please use this link to upload your files:\\xa0File Upload.\\n\\n\\xa0\\n\\nIf you are uploading and working with a list of NRICs/FINs, do note that they need to be hashed before use in the lab. To hash NRICs/FINs, please use this link instead:\\xa0FIN/NRIC.\\n\\n\\n\\nAm I allowed to bring my GSIB/laptop/handphone into the Data Lab?\\n\\nNo. The Data Lab operates in a secure, isolated environment. For data security purposes, GSIBs, handphones and camera devices are not allowed in the lab. Please deposit them in our lockers for safekeeping.\\n\\n\\n\\nCan Data Lab admins help me to prepare and extract my data?\\n\\nThe MOM Data Lab operates on a self-help basis. As Data Lab admins, we do not possess the requisite domain knowledge for scoping the parameters of your policy analysis needs. We are only able to assist and advise you on how to use our data products. If you require data from the lab, please book an available timeslot to come down.\\n\\n\\n\\nWhat kinds of data are available in the Data Lab?\\n\\nThe Data lab houses various datasets and data products/dashboards. Please refer to this our\\xa0Software and Data Products\\xa0page for more info.\\n\\n\\xa0\\n\\nFor general manpower analyses, please use our individual level dashboard (Local+FW). This dashboard contains employment records, for both locals and foreigners, captured as monthly snapshots at the individual level. Commonly used fields include: SSIC, SSOC, Age, Salary, Sector, UEN, QJ wage bands, Pass Type etc.\\xa0\\n\\n\\xa0\\n\\nFor tracking employment changes (sector, salary, jobs etc.) longitudinally, please use the Grossflow dashboard.\\xa0\\n\\n\\xa0\\n\\nFor employment outcomes related to education and/or training, please use the MOE Graduate Admin dashboard.\\n\\n\\xa0\\n\\nYou may wish to email us to enquire if the data/fields you are looking for is available in the lab.\\n\\n\\n\\nWhat is the latest data available in the Data Lab?\\n\\nFor locals' data, there is a lag time of about 3 months. For example, if you require locals' data for Jan 2024, it will only be available from Apr 2024 onwards.\\xa0\\n\\nFor foreigners' data, there is a lag time of about 2 months. For example, if you require foreigners' data for Jan 2024, it will only be available from March 2024 onwards.\\n\\n\\xa0\\n\\nPlease refer to the\\xa0Software and Data Products\\xa0page for the latest available Yearmonth, or contact a Data Lab admin.\\n\\n\\n\\nAm I allowed to share the data I extracted from the Data Lab?\\n\\nYou are allowed to share the data with people who are listed as intended data recipients for the purpose specified in the FormSG submission/SNDGO data sharing form. For data sharing that falls outside of this scope, please\\xa0contact us\\xa0for more information.\\n\\n\\n\\nWhy is there a difference between the figures extracted from Data Lab and MRSD?\\n\\nThe difference in figures extracted from Data Lab and those from MRSD (Manpower Research and Statistics Department), even when coming from the same data source, can be attributed to variations in the underlying data processing methodology. These methodological differences may include how data is cleaned, aggregated, or analyzed, leading to disparities between both sets of figures.\\n\\n\\n\\nHow long does it take to get my data?\\n\\nOur service level agreement is to process your extraction request within 7 working days. However. please note that complex and/or sensitive requests may be subject to further assessment/approval, and may take longer than that.\\xa0\\n\\n\\n\\nDo I need to attend the Data Lab Workshop before visiting the Data Lab?\\n\\nNo, you do not need to attend the Data Lab workshop before visiting the lab. The Data Lab workshop is for users to gain a better understanding of the Data Lab and its data products, and is completely optional.\\n\\n\\n\\nHow do I change or reset my Data Lab account password?\\n\\nFOR EXTERNAL USERS\\n\\nTo change or reset your Data Lab password, you will need to be connected to a MOM Network. Once you are connected to a MOM network, please perform the following steps:\\n\\n1. Open Google Chrome and go to account.intranet.mom.gov.sg.\\xa0\\n2. Key in your MOM LAN ID (e.g. DLGST1234) and click on 1) Reset Forgotten Password or 2) Change Password Upon/Prior Expiry.\\xa0\\n3. Answer your two security questions, and an OTP that will be sent to your GSIB.\\n\\n4. Input the OTP and change/reset your password.\\n\\nIf this is your first time setting up your account, please approach a Data Lab admin for assistance.\\n\\n\\xa0\\n\\nFOR MOM USERS\\n\\nPlease approach a Data Lab admin for assistance.\\n\\n\\n\\nWhat do I do when I cannot access the MRSD_External folder?\\n\\nFOR EXTERNAL USERS\\n1. Ensure that Symantec Endpoint Protection is on by right clicking on the small arrow on the bottom right corner of the Windows task bar. There should be a small green circle is Symantec Endpoint Protection is working correctly.\\n\\n2. Ensure that you have entered the credentials correctly in Credential Manager (Internet or network address: hqmsdb138, User Name: MOM\\\\DLGSTXXX and your password). If you are still unable to access MRSD_External, refrain from clicking on the MRSD_External folder again as repeated tries with the wrong password will lock your account.\\n\\n3. If you have entered your credentials correctly, but are still unable to access MRSD_External, your account may have already been locked or disabled. Accounts that have not been signed in for 3 months will be automatically disabled. If your account has been locked, please use the MOM Service Portal to unlock your account. If it has been disabled, please approach a Data Lab admin for assistance.\\xa0\\n\\nFOR MOM and MPPD USERS\\nPlease approach a Data Lab admin for assistance.\", path=None, url=None, mimetype=None), image_resource=None, audio_resource=None, video_resource=None, text_template='{metadata_str}\\n\\n{content}'),\n",
       " Document(id_='/Users/danielmak/Documents/local_RAG/Document/Aibot - Datalab.docx_part_0', embedding=None, metadata={'file_name': 'Aibot - Datalab.docx', 'file_path': '/Users/danielmak/Documents/local_RAG/Document/Aibot - Datalab.docx', 'file_type': 'application/vnd.openxmlformats-officedocument.wordprocessingml.document', 'file_size': 29341, 'creation_date': '2025-03-06', 'last_modified_date': '2025-03-06'}, excluded_embed_metadata_keys=['file_name', 'file_type', 'file_size', 'creation_date', 'last_modified_date', 'last_accessed_date'], excluded_llm_metadata_keys=['file_name', 'file_type', 'file_size', 'creation_date', 'last_modified_date', 'last_accessed_date'], relationships={}, metadata_template='{key}: {value}', metadata_separator='\\n', text_resource=MediaResource(embeddings=None, data=None, text='<About MOM Data Lab>\\n\\nThe MOM Data Lab allows authorised MOM and external officers to conduct exploratory analysis on granular employment-related data. Officers who wish to access MOM Data Lab will require at least Cat 2 clearance and approval from their director, unless otherwise approved by CDO/MOM. \\n\\nThe lab is managed by the MPPD Data Unit.\\n\\nLab location: 18 Havelock Rd, Singapore 59764, Level 2, MOM HQ\\n\\nOperating Hours: Tuesdays to Thursdays, 9.30 a.m. to 5.30 p.m unless otherwise specified.\\xa0\\n\\nData Lab homepage: https://gccprod.sharepoint.com/sites/MOM-DataLab/SitePages/Home.aspx \\n\\nContact Email: mom-mppd-data@mom.gov.sg\\n\\n</About MOM Data Lab>\\n\\n\\n\\n\\n<Lab Services>\\n\\n\\t<Website>\\n\\nhttps://gccprod.sharepoint.com/sites/MOM-DataLab/SitePages/Data-Lab-Terms-and-Conditions.aspx\\n\\n</Website>\\n\\n<Accessing the Lab>\\n\\nBefore you can book a terminal to use, you will need to apply for access. Application requires your director’s approval in .msg format.\\n\\nLink to apply: https://form.gov.sg/66e25841dfb50acf1f5f4afe\\n\\n</Accessing the Lab>\\n\\n<Terminals Availability>\\n\\nTo view lab terminals availability, go to https://sgdcs.sgnet.gov.sg/sites/MOM-mppd/data-lab/_layouts/15/WopiFrame.aspx?sourcedoc=%7Bf51e0dbb-f97a-4106-9beb-1207be6a59f9%7D&action=default&slrid=1f8b4aa1-3ebd-500d-b5c1-048e7d5d595a\\n\\n</Terminals Availability>\\n\\n<Lab Booking>\\n\\nPlease note that you will need to book an available timeslot to come down to the lab. Lab terminals are subject to availability and confirmation (i.e. submission of booking request does not mean that the lab session will be allocated). No visitors are allowed in the Data Lab without the presence of a Data Lab Administrator. MOM reserves the right to close the Data Lab if no Data Lab Administrators are available.\\n\\nLink to book: https://form.gov.sg/628da5e1ff95ea0012542b84 \\n\\nRefer to the terminals availability before submitting a booking.\\n\\n</Lab Booking>\\n\\n<File Upload>\\n\\nData Lab users may request to upload their reference file for analysis. \\n\\nLink to upload files: https://form.gov.sg/66cd70eb616f19d49e362b62\\n\\n</File Upload>\\n\\n<NRIC / FIN Hashing>\\n\\nData Lab users may request to de-identify (hash) their specific list of NRICS and FINs and use them to perform data analysis in Data Lab environment.  \\n\\nLink for NRIC Hashing: https://form.gov.sg/642bed1d5e0f7400126bf824\\nLink for FIN Hashing: https://form.gov.sg/642269acb69f640012fee050\\n\\n</NRIC / FIN Hashing>\\n\\n<Data Extraction>\\n\\nUsers of the lab may request for data to be extracted. Please ensure the justifications are duly completed as incomplete / vague submissions may be rejected.\\n\\nLink to request for data extraction: https://form.gov.sg/63ef97420e7bce0013e702c2\\n\\n</Data Extraction>\\n\\n</Lab Services>\\n\\n\\n\\n<Terms and Conditions>\\n\\n\\t<Website>\\n\\nhttps://gccprod.sharepoint.com/sites/MOM-DataLab/SitePages/Data-Lab-Terms-and-Conditions.aspx\\n\\n</Website>\\n\\n<Operating Hours>\\n\\nThe operating hours of the Data Lab are from 9.30am to 12.00pm and 2.00pm to 5.30pm every Tuesday, Wednesday and Thursday. No visitors are allowed in the Data Lab without the presence of a Data Lab Administrator. MOM reserves the right to close the Data Lab if no Data Lab Administrators are available. \\n\\n<Data Security>  \\n\\nAccess to the Data Lab will be granted for a maximum of one year per instance. The duration can be extended toward the expiry date.\\n\\nWhen seeking an extension, officers are required to provide an email from their HOD/CDO to endorse the new period of access. Officers are recommended to request for the extension at least 2 weeks before the date they intend to visit the lab.\\n\\nAgencies/Officers shall inform MOM if officers have left the agencies, changed department or are no longer involved in the project that their Data Lab access were approved for.\\n\\nPhotography and videography are not allowed in the Data Lab. All personal belongings (eg. writing materials, GSIB, mobile devices) are to be deposited in the lockers located outside of the Data Lab. Writing materials will be provided if required (eg. for noting down of file path) and may be subjected to checks upon exiting the Data Lab.\\n\\nData accessed in the course of analysis in the Data Lab must not be transmitted out without prior written authorization from MOM.  \\n\\nOfficers are not to reproduce, in any manner, data accessed from the Data Lab. Officers are to protect and keep information accessed from the data lab confidential in accordance with the requirements laid down by the MOM and by the Official Secrets Act.\\n\\nIf an officer is found to be in breach of the data security conditions above, MOM reserves the right to deny the officer future access to the Data Lab.\\n\\nPlease note that MOM Data Lab has high security control over extraction of individual and firm level data. Officer should provide strong justification if there is a requirement to extract such sensitive data.\\n\\n<Data Usage/Interpretation>\\n\\nThe main usage of the data in Data Lab is to support agencies’ internal analysis only. For publication purpose, please approach our Manpower Research and Statistics Department (MRSD) if MRSD has the required data.\\n\\nOfficers will be responsible for any misrepresentation of the data. Officers should consult the relevant Policy Owners when in doubt on the contextual interpretation of the data such that misrepresentation of the data is minimised.\\n\\n</Data Usage/Interpretation>\\n\\n<Guidelines>\\n\\nThe MOM Data Lab Access Request Form is to be completed by an authorized officer from the requesting agency. The Chief Data Officer (CDO) or Director-level (or equivalent) should approve the undertaking on behalf of the requesting agency.  \\n\\nThe MOM Data Lab Access Request Form must be duly completed to facilitate accurate assessment. Incomplete forms and/or inadequate information provided may result in the request being rejected or the processing delayed. MOM will get back to you within one week. If the request for access is approved, we will work with you to find the earliest opportunity for you to access the Data Lab, subject to availability of computer terminals.\\n\\nAdditional processing time would be required if additional datasets are required to be merged with MOM’s administrative employment data. This may take up to 2 weeks from the time MOM receives the dataset required for merging.\\n\\nOfficers requesting for access to the Data Lab are expected to have a minimal level of technical expertise in the use of software for data analysis (e.g. Tableau, Stata, Python, R).  \\n\\nWith effect from 1 Nov 2021, the following file management rules will apply for Data Lab usage: \\n\\nLarge files (defined as > 1 GB) on the server that have not been modified in the last 12 months will be automatically deleted.  \\n\\nSmaller files on the server that have not been modified in the last 24 months will be automatically deleted.  \\n\\nLarge files (e.g. processed datasets) must be stored locally (D: or E: drives) while smaller files (e.g. codes, Tableau workbooks) can be stored on the server. Files stored locally can be transferred between terminals.  \\n\\nFiles stored on the local drives of Data Lab terminals may be deleted if not accessed within the last 12 months.  \\n\\nOfficers are reminded to be prudent in their usage and delete obsolete files whenever possible.\\n\\nThe following guidelines apply for all data extractions: \\n\\nUnless appropriately justified, officers should consider further aggregation or masking small value counts (e.g. < 5) when extracting aggregated data to minimise re-identification risks. Officers may be required to make another visit if the request for such data is not approved. \\n\\nAccess rights and file expiry will be implemented for all data extractions, with duration capped at 6 months. Officers may request for extension nearer to expiration date if necessary.  \\n\\nData files must not be duplicated or shared beyond the approved list of officers. \\n\\nData files to be extracted should be in the form of Office product types (.xlsx, .docx, .pptx) as far as possible (CSV files are not considered). This is to facilitate implementation of file expiry and access rights controls. \\n\\nData should be consolidated in 1 single file, with multiple sheets/pages if necessary\\n\\n</Guidelines>', path=None, url=None, mimetype=None), image_resource=None, audio_resource=None, video_resource=None, text_template='{metadata_str}\\n\\n{content}'),\n",
       " Document(id_='/Users/danielmak/Documents/local_RAG/Document/Synthetic Data Dictionary.xlsx_part_0', embedding=None, metadata={'file_path': '/Users/danielmak/Documents/local_RAG/Document/Synthetic Data Dictionary.xlsx', 'file_name': 'Synthetic Data Dictionary.xlsx', 'file_type': 'application/vnd.openxmlformats-officedocument.spreadsheetml.sheet', 'file_size': 18282, 'creation_date': '2025-03-06', 'last_modified_date': '2025-03-06'}, excluded_embed_metadata_keys=['file_name', 'file_type', 'file_size', 'creation_date', 'last_modified_date', 'last_accessed_date'], excluded_llm_metadata_keys=['file_name', 'file_type', 'file_size', 'creation_date', 'last_modified_date', 'last_accessed_date'], relationships={}, metadata_template='{key}: {value}', metadata_separator='\\n', text_resource=MediaResource(embeddings=None, data=None, text='person_id Unique identifier for each individual Integer 100001-999999 Primary key for database linking\\nage_years Age of individual in completed years Integer 16-100 Used for demographic analysis\\ngender Gender of the individual Categorical Male, Female, Other For gender-based analysis\\nemployment_status Current employment situation Categorical Employed, Unemployed, Economically Inactive Core variable for labour force metrics\\noccupation_code Standard Occupational Classification code String 6-digit code (e.g., \"251110\") Based on SOC classification\\nindustry_sector Sector of employment Categorical Manufacturing, Services, Construction, etc. Based on SSIC\\nmonthly_income Gross monthly income in SGD Numeric 0.00 - 999999.99 Includes salary, bonuses, allowances\\nhours_worked_weekly Average weekly working hours Numeric 0.0 - 168.0 For full-time/part-time classification\\nemployment_type Nature of employment Categorical Permanent, Contract, Temporary, Self-employed Employment arrangement\\neducation_level Highest qualification attained Categorical Primary, Secondary, Post-Secondary Non-Tertiary, Diploma, Degree, Postgraduate Educational background\\nskills_certification Professional certifications Array of strings Multiple entries possible Professional qualifications\\ndata_collection_date Date of data collection Date YYYY-MM-DD Administrative information\\nresidential_planning_area Area of residence in Singapore Categorical Ang Mo Kio, Bedok, Tampines, etc. Geographic information', path=None, url=None, mimetype=None), image_resource=None, audio_resource=None, video_resource=None, text_template='{metadata_str}\\n\\n{content}'),\n",
       " Document(id_='/Users/danielmak/Documents/local_RAG/Document/Synthetic Standard Operating Procedures for Research Data Laboratory.docx_part_0', embedding=None, metadata={'file_name': 'Synthetic Standard Operating Procedures for Research Data Laboratory.docx', 'file_path': '/Users/danielmak/Documents/local_RAG/Document/Synthetic Standard Operating Procedures for Research Data Laboratory.docx', 'file_type': 'application/vnd.openxmlformats-officedocument.wordprocessingml.document', 'file_size': 27461, 'creation_date': '2025-03-06', 'last_modified_date': '2025-03-06'}, excluded_embed_metadata_keys=['file_name', 'file_type', 'file_size', 'creation_date', 'last_modified_date', 'last_accessed_date'], excluded_llm_metadata_keys=['file_name', 'file_type', 'file_size', 'creation_date', 'last_modified_date', 'last_accessed_date'], relationships={}, metadata_template='{key}: {value}', metadata_separator='\\n', text_resource=MediaResource(embeddings=None, data=None, text=\"Standard Operating Procedures for Research Data Laboratory\\n\\n1. OBJECTIVE AND SCOPE\\n\\nThis document establishes comprehensive guidelines for managing and safeguarding the Research Data Laboratory, a secure facility designed for conducting exploratory analysis on sensitive data. The procedures outlined here govern who may access the facility, what data is available, and how the laboratory and its data must be protected.\\n\\n2. ACCESS CONTROL FRAMEWORK\\n\\n2.1 Eligibility Requirements\\n\\nAll personnel seeking access to the Research Data Laboratory must meet strict security requirements. The primary requirement is Category 2 security clearance, which serves as the minimum threshold for accessing the facility. This clearance level is standard for public service officers and remains valid throughout their service, regardless of role changes or departmental transfers.\\n\\nExternal personnel may be granted access under specific conditions:\\n\\nThey must provide written approval from their Director or Chief Data Officer\\n\\nTheir organization must maintain an active data sharing agreement with a government agency\\n\\nThe intended use must align with permitted purposes outlined in existing agreements\\n\\nIn exceptional circumstances, personnel without Category 2 clearance may be granted temporary access if:\\n\\nStrong justification is provided through proper channels\\n\\nThe request is submitted by another officer from the requestor's department\\n\\nAdditional security measures are implemented during their access period\\n\\n2.2 Access Implementation Process\\n\\nFor Internal Staff:\\n\\nSubmit application through the internal access management system\\n\\nReceive secondary access credentials specific to laboratory use\\n\\nComplete necessary security documentation\\n\\nSchedule laboratory time through the booking system\\n\\nFor External Users:\\n\\nSubmit comprehensive access request form with required approvals\\n\\nReceive temporary access credentials valid for up to 12 months\\n\\nComplete mandatory security briefing\\n\\nAccess laboratory only during approved time slots with proper supervision\\n\\n3. LABORATORY SECURITY PROTOCOLS\\n\\n3.1 Physical Security Measures\\n\\nThe laboratory maintains strict security through multiple control measures:\\n\\nPersonal Item Restrictions:\\n\\nNo photography or recording devices permitted\\n\\nAll personal belongings must be stored in designated lockers\\n\\nNo paper materials allowed unless specifically authorized\\n\\nMobile devices strictly prohibited\\n\\nAccess Control:\\n\\nBiometric or card-based entry system\\n\\nMandatory sign-in and sign-out procedures\\n\\nContinuous monitoring of laboratory space\\n\\nSupervised access for external users\\n\\n3.2 Data Security Requirements\\n\\nUsers must adhere to comprehensive data protection protocols:\\n\\nNo unauthorized transmission of data in any form\\n\\nProhibition on reproducing or copying accessed data\\n\\nMandatory use of encrypted storage devices\\n\\nRegular auditing of data access logs\\n\\n4. DATA MANAGEMENT FRAMEWORK\\n\\n4.1 Data Access and Extraction\\n\\nAll data extraction requests must follow a structured approval process:\\n\\nSubmission Requirements:\\n\\nDetailed purpose statement\\n\\nScope of data needed\\n\\nIntended use and storage plans\\n\\nSecurity measures for extracted data\\n\\nTechnical Requirements:\\n\\nUse of authorized portable storage media only\\n\\nImplementation of required encryption standards\\n\\nProper documentation of all extractions\\n\\nVerification of data sensitivity levels\\n\\nFile Management:\\n\\nMandatory use of approved file formats\\n\\nImplementation of access controls\\n\\nRegular review of stored data\\n\\nSecure deletion procedures\\n\\n4.2 Data Archiving and Retention\\n\\nThe laboratory maintains strict data lifecycle management:\\n\\nStorage Guidelines:\\n\\nFive-year retention period for archived data\\n\\nRegular assessment of storage requirements\\n\\nAutomated cleanup of inactive files\\n\\nStructured migration of large datasets\\n\\nFile Classification:\\n\\nLarge files (exceeding 1GB) managed separately\\n\\nAutomated movement to secondary storage after 12 months\\n\\nRegular review of storage utilization\\n\\nClear deletion protocols\\n\\n5. INCIDENT MANAGEMENT\\n\\n5.1 Incident Response Protocol\\n\\nIn the event of a security incident:\\n\\nImmediate Actions:\\n\\nContain the incident to prevent further exposure\\n\\nDocument all relevant details\\n\\nNotify appropriate authorities\\n\\nImplement emergency security measures\\n\\nInvestigation Process:\\n\\nGather all relevant evidence\\n\\nInterview involved parties\\n\\nDocument the incident timeline\\n\\nAssess the impact and scope\\n\\nRemediation Steps:\\n\\nImplement corrective measures\\n\\nUpdate security protocols as needed\\n\\nProvide additional training if required\\n\\nMonitor for similar incidents\\n\\n5.2 Documentation and Reporting\\n\\nAll incidents require comprehensive documentation:\\n\\nIncident Reports Must Include:\\n\\nDetailed description of the incident\\n\\nTimeline of events and discoveries\\n\\nImpact assessment and scope\\n\\nActions taken and recommendations\\n\\nPrevention measures for future incidents\\n\\nFollow-up Procedures:\\n\\nRegular status updates\\n\\nImplementation tracking\\n\\nEffectiveness assessment\\n\\nLong-term monitoring\\n\\n6. COMPLIANCE AND ENFORCEMENT\\n\\n6.1 Violation Framework\\n\\nThe laboratory implements a structured approach to handling violations:\\n\\nMinor Violations:\\n\\nFirst occurrence: Written warning\\n\\nDocumentation in user record\\n\\nMandatory security refresher\\n\\nModerate Violations:\\n\\nOne to two month suspension of access\\n\\nIncident report to department head\\n\\nMandatory retraining before reinstatement\\n\\nSerious Violations:\\n\\nPermanent revocation of access\\n\\nFormal notification to all relevant authorities\\n\\nPossible disciplinary action\\n\\nReview of associated projects and data access\\n\\n6.2 Continuous Improvement\\n\\nThe laboratory maintains ongoing enhancement of security measures:\\n\\nRegular review of procedures\\n\\nUpdates based on incident lessons\\n\\nIntegration of new security technologies\\n\\nAdaptation to emerging threats\", path=None, url=None, mimetype=None), image_resource=None, audio_resource=None, video_resource=None, text_template='{metadata_str}\\n\\n{content}')]"
      ]
     },
     "execution_count": 34,
     "metadata": {},
     "output_type": "execute_result"
    }
   ],
   "source": [
    "documents"
   ]
  },
  {
   "cell_type": "code",
   "execution_count": 37,
   "metadata": {},
   "outputs": [],
   "source": [
    "def create_evaluation_dataset(\n",
    "    documents,\n",
    "    num_questions_per_chunk: int = 3,\n",
    "    base_output_path: str = \"./Document/evaluation_datasets\"\n",
    "):\n",
    "    \"\"\"Create evaluation dataset using LlamaIndex's generate_question_context_pairs\"\"\"\n",
    "\n",
    "    timestamp = datetime.now().strftime(\"%Y%m%d_%H%M%S\")\n",
    "    output_path = Path(base_output_path) / f\"evaluation_dataset_{timestamp}.json\"\n",
    "    \n",
    "    # Create node parser for chunking\n",
    "    node_parser = SentenceSplitter(\n",
    "        chunk_size=512,\n",
    "        chunk_overlap=50\n",
    "    )\n",
    "    nodes = node_parser.get_nodes_from_documents(documents)\n",
    "    print(f\"Total documents: {len(documents)}\")\n",
    "    print(f\"Total chunks: {len(nodes)}\")\n",
    "    print(f\"Estimated questions to generate: {len(nodes) * num_questions_per_chunk}\")\n",
    "\n",
    "    # You can also see chunk distribution per document\n",
    "    doc_chunks = {}\n",
    "    for node in nodes:\n",
    "        doc_id = node.metadata.get('file_name', 'unknown')\n",
    "        doc_chunks[doc_id] = doc_chunks.get(doc_id, 0) + 1\n",
    "\n",
    "    print(\"\\nChunks per document:\")\n",
    "    for doc_id, count in doc_chunks.items():\n",
    "        print(f\"- {doc_id}: {count} chunks\")\n",
    "\n",
    "    # Generate question-context pairs\n",
    "    print(\"Generating question-context pairs...\")\n",
    "    qc_pairs = generate_question_context_pairs(\n",
    "        nodes=nodes,\n",
    "        llm=Settings.llm,\n",
    "        num_questions_per_chunk=num_questions_per_chunk,\n",
    "    )\n",
    "    \n",
    "    # Format into dataset structure\n",
    "    dataset = {\n",
    "        \"examples\": [\n",
    "            {\n",
    "                \"query\": pair[0],  # First element is the question\n",
    "                \"reference_contexts\": [pair[1]],  # Second element is the context\n",
    "                \"reference_answer\": pair[2] if len(pair) > 2 else \"\",  # Third element is the answer (if exists)\n",
    "                \"query_by\": {\"model_name\": \"llama-2\", \"type\": \"ai\"},\n",
    "                \"metadata\": {\n",
    "                    \"source\": getattr(pair[1], 'metadata', {}).get('file_name', ''),\n",
    "                    \"doc_id\": getattr(pair[1], 'doc_id', '')\n",
    "                }\n",
    "            }\n",
    "            for pair in qc_pairs\n",
    "        ]\n",
    "    }\n",
    "    \n",
    "    # Save dataset with timestamp\n",
    "    output_path.parent.mkdir(parents=True, exist_ok=True)\n",
    "    with open(output_path, 'w') as f:\n",
    "        json.dump(dataset, f, indent=2)\n",
    "    \n",
    "    print(f\"Created dataset with {len(dataset['examples'])} examples\")\n",
    "    print(f\"Saved to: {output_path}\")\n",
    "    return dataset"
   ]
  },
  {
   "cell_type": "code",
   "execution_count": 38,
   "metadata": {},
   "outputs": [
    {
     "name": "stdout",
     "output_type": "stream",
     "text": [
      "Loaded 4 documents\n",
      "Total documents: 4\n",
      "Total chunks: 14\n",
      "Estimated questions to generate: 42\n",
      "\n",
      "Chunks per document:\n",
      "- AIBots - FAQs.docx: 5 chunks\n",
      "- Aibot - Datalab.docx: 5 chunks\n",
      "- Synthetic Data Dictionary.xlsx: 1 chunks\n",
      "- Synthetic Standard Operating Procedures for Research Data Laboratory.docx: 3 chunks\n",
      "Generating question-context pairs...\n"
     ]
    },
    {
     "name": "stderr",
     "output_type": "stream",
     "text": [
      "100%|██████████| 14/14 [01:46<00:00,  7.60s/it]"
     ]
    },
    {
     "name": "stdout",
     "output_type": "stream",
     "text": [
      "Created dataset with 4 examples\n",
      "Saved to: Document/evaluation_datasets/evaluation_dataset_20250318_120219.json\n"
     ]
    },
    {
     "name": "stderr",
     "output_type": "stream",
     "text": [
      "\n"
     ]
    }
   ],
   "source": [
    "# Usage example\n",
    "documents = load_documents()\n",
    "eval_dataset = create_evaluation_dataset(\n",
    "    documents=documents,\n",
    "    num_questions_per_chunk=3,\n",
    "    base_output_path=\"./Document/evaluation_datasets\"\n",
    ")"
   ]
  },
  {
   "cell_type": "code",
   "execution_count": 39,
   "metadata": {},
   "outputs": [
    {
     "name": "stdout",
     "output_type": "stream",
     "text": [
      "Evaluating 4 queries...\n"
     ]
    },
    {
     "name": "stderr",
     "output_type": "stream",
     "text": [
      "  0%|          | 0/4 [00:19<?, ?it/s]\n"
     ]
    },
    {
     "ename": "TypeError",
     "evalue": "sequence item 0: expected str instance, dict found",
     "output_type": "error",
     "traceback": [
      "\u001b[0;31m---------------------------------------------------------------------------\u001b[0m",
      "\u001b[0;31mTypeError\u001b[0m                                 Traceback (most recent call last)",
      "Cell \u001b[0;32mIn[39], line 5\u001b[0m\n\u001b[1;32m      2\u001b[0m rag_dataset \u001b[38;5;241m=\u001b[39m RagDataset(eval_dataset)\n\u001b[1;32m      3\u001b[0m evaluator \u001b[38;5;241m=\u001b[39m EvaluationMetrics(rag_dataset)\n\u001b[0;32m----> 5\u001b[0m \u001b[43mevaluator\u001b[49m\u001b[38;5;241;43m.\u001b[39;49m\u001b[43mevaluate_all_queries\u001b[49m\u001b[43m(\u001b[49m\u001b[43mquery_engine\u001b[49m\u001b[43m,\u001b[49m\u001b[43m \u001b[49m\u001b[43mllm\u001b[49m\u001b[38;5;241;43m=\u001b[39;49m\u001b[43mllm\u001b[49m\u001b[43m)\u001b[49m\n\u001b[1;32m      6\u001b[0m evaluator\u001b[38;5;241m.\u001b[39mget_summary_metrics()\n\u001b[1;32m      7\u001b[0m evaluator\u001b[38;5;241m.\u001b[39mplot_results()\n",
      "Cell \u001b[0;32mIn[14], line 169\u001b[0m, in \u001b[0;36mEvaluationMetrics.evaluate_all_queries\u001b[0;34m(self, query_engine, llm)\u001b[0m\n\u001b[1;32m    166\u001b[0m     generated_answer \u001b[38;5;241m=\u001b[39m \u001b[38;5;28mself\u001b[39m\u001b[38;5;241m.\u001b[39m_generate_answer(llm, query, retrieved_contexts)\n\u001b[1;32m    168\u001b[0m \u001b[38;5;66;03m# Evaluate retrieval accuracy\u001b[39;00m\n\u001b[0;32m--> 169\u001b[0m retrieval_metrics \u001b[38;5;241m=\u001b[39m \u001b[38;5;28;43mself\u001b[39;49m\u001b[38;5;241;43m.\u001b[39;49m\u001b[43mevaluate_retrieval_accuracy\u001b[49m\u001b[43m(\u001b[49m\n\u001b[1;32m    170\u001b[0m \u001b[43m    \u001b[49m\u001b[43mretrieved_contexts\u001b[49m\u001b[43m,\u001b[49m\n\u001b[1;32m    171\u001b[0m \u001b[43m    \u001b[49m\u001b[43midx\u001b[49m\n\u001b[1;32m    172\u001b[0m \u001b[43m\u001b[49m\u001b[43m)\u001b[49m\n\u001b[1;32m    173\u001b[0m \u001b[38;5;28mself\u001b[39m\u001b[38;5;241m.\u001b[39mretrieval_accuracies\u001b[38;5;241m.\u001b[39mappend(retrieval_metrics[\u001b[38;5;124m'\u001b[39m\u001b[38;5;124maccuracy\u001b[39m\u001b[38;5;124m'\u001b[39m])\n\u001b[1;32m    175\u001b[0m \u001b[38;5;66;03m# Evaluate semantic quality if answer generated\u001b[39;00m\n",
      "Cell \u001b[0;32mIn[14], line 39\u001b[0m, in \u001b[0;36mEvaluationMetrics.evaluate_retrieval_accuracy\u001b[0;34m(self, retrieved_contexts, query_idx)\u001b[0m\n\u001b[1;32m     37\u001b[0m \u001b[38;5;66;03m# Convert contexts to sets of sentences for comparison\u001b[39;00m\n\u001b[1;32m     38\u001b[0m retrieved_set \u001b[38;5;241m=\u001b[39m \u001b[38;5;28mset\u001b[39m(\u001b[38;5;124m'\u001b[39m\u001b[38;5;124m \u001b[39m\u001b[38;5;124m'\u001b[39m\u001b[38;5;241m.\u001b[39mjoin(retrieved_texts)\u001b[38;5;241m.\u001b[39msplit(\u001b[38;5;124m'\u001b[39m\u001b[38;5;124m.\u001b[39m\u001b[38;5;124m'\u001b[39m))\n\u001b[0;32m---> 39\u001b[0m reference_set \u001b[38;5;241m=\u001b[39m \u001b[38;5;28mset\u001b[39m(\u001b[38;5;124;43m'\u001b[39;49m\u001b[38;5;124;43m \u001b[39;49m\u001b[38;5;124;43m'\u001b[39;49m\u001b[38;5;241;43m.\u001b[39;49m\u001b[43mjoin\u001b[49m\u001b[43m(\u001b[49m\u001b[43mreference_contexts\u001b[49m\u001b[43m)\u001b[49m\u001b[38;5;241m.\u001b[39msplit(\u001b[38;5;124m'\u001b[39m\u001b[38;5;124m.\u001b[39m\u001b[38;5;124m'\u001b[39m))\n\u001b[1;32m     41\u001b[0m \u001b[38;5;66;03m# Calculate metrics\u001b[39;00m\n\u001b[1;32m     42\u001b[0m correct_retrievals \u001b[38;5;241m=\u001b[39m \u001b[38;5;28mlen\u001b[39m(retrieved_set\u001b[38;5;241m.\u001b[39mintersection(reference_set))\n",
      "\u001b[0;31mTypeError\u001b[0m: sequence item 0: expected str instance, dict found"
     ]
    }
   ],
   "source": [
    "# Initialize evaluation pipeline\n",
    "rag_dataset = RagDataset(eval_dataset)\n",
    "evaluator = EvaluationMetrics(rag_dataset)\n",
    "\n",
    "evaluator.evaluate_all_queries(query_engine, llm=llm)\n",
    "evaluator.get_summary_metrics()\n",
    "evaluator.plot_results()"
   ]
  },
  {
   "cell_type": "code",
   "execution_count": null,
   "metadata": {},
   "outputs": [],
   "source": []
  }
 ],
 "metadata": {
  "kernelspec": {
   "display_name": "local_RAG",
   "language": "python",
   "name": "python3"
  },
  "language_info": {
   "codemirror_mode": {
    "name": "ipython",
    "version": 3
   },
   "file_extension": ".py",
   "mimetype": "text/x-python",
   "name": "python",
   "nbconvert_exporter": "python",
   "pygments_lexer": "ipython3",
   "version": "3.10.16"
  }
 },
 "nbformat": 4,
 "nbformat_minor": 2
}
